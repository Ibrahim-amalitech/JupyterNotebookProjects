{
 "cells": [
  {
   "cell_type": "markdown",
   "id": "fb02ef46",
   "metadata": {},
   "source": [
    "# FetchMaker"
   ]
  },
  {
   "cell_type": "markdown",
   "id": "17f5e842",
   "metadata": {},
   "source": [
    "FetchMaker’s mission is to match up prospective dog owners with their perfect pet. Data on thousands of adoptable dogs are in FetchMaker’s system, and it’s your job to analyze some of that data."
   ]
  },
  {
   "cell_type": "code",
   "execution_count": null,
   "id": "f595b70e",
   "metadata": {},
   "outputs": [],
   "source": [
    "import numpy as np\n",
    "import fetchmaker\n",
    "from scipy.stats import binom_test\n",
    "from scipy.stats import f_oneway\n",
    "from statsmodels.stats.multicomp import pairwise_tukeyhsd\n",
    "from scipy.stats import chi2_contingency\n",
    "\n",
    "rottweiler_tl=fetchmaker.get_tail_length(\"rottweiler\")\n",
    "print(np.mean(rottweiler_tl))\n",
    "print(np.std(rottweiler_tl))\n",
    "\n",
    "whippet_rescue=fetchmaker.get_is_rescue(\"whippet\")\n",
    "num_whippet_rescues=np.count_nonzero(whippet_rescue)\n",
    "num_whippets=np.size(whippet_rescue)\n",
    "pval =binom_test(num_whippet_rescues,n=num_whippets,p=0.08)\n",
    "print(pval)\n",
    "whippets_weight=fetchmaker.get_weight(\"whippet\")\n",
    "terriers_weight=fetchmaker.get_weight(\"terrier\")\n",
    "pitbulls_weight=fetchmaker.get_weight(\"pitbull\")\n",
    "\n",
    "fstat, pval = f_oneway(whippets_weight, terriers_weight, pitbulls_weight)\n",
    "print(pval)\n",
    "print(pval<0.05)\n",
    "\n",
    "v = np.concatenate([whippets_weight, terriers_weight, pitbulls_weight])\n",
    "labels = ['whippets_weight'] * len(whippets_weight) + ['terriers_weight'] * len(terriers_weight) + ['pitbulls_weight'] * len(pitbulls_weight)\n",
    "tukey_results = pairwise_tukeyhsd(v, labels, 0.05)\n",
    "print(tukey_results)\n",
    "\n",
    "poodle_colors=fetchmaker.get_color('poodle')\n",
    "shihtzu_colors=fetchmaker.get_color('shihtzu')\n",
    "X = [[np.count_nonzero(poodle_colors == \"black\"), np.count_nonzero(shihtzu_colors == \"black\")],\n",
    "     [np.count_nonzero(poodle_colors == \"brown\"), np.count_nonzero(shihtzu_colors == \"brown\")],\n",
    "     [np.count_nonzero(poodle_colors == \"gold\"), np.count_nonzero(shihtzu_colors == \"gold\")],\n",
    "     [np.count_nonzero(poodle_colors == \"grey\"),np.count_nonzero(shihtzu_colors == \"grey\")],\n",
    "  [np.count_nonzero(poodle_colors == \"white\"),np.count_nonzero(shihtzu_colors == \"white\")]]\n",
    "# print(X)\n",
    "chi2, pval, dof, expected = chi2_contingency(X)\n",
    "print(pval)\n",
    "print(pval<0.05)"
   ]
  }
 ],
 "metadata": {
  "kernelspec": {
   "display_name": "Python 3",
   "language": "python",
   "name": "python3"
  },
  "language_info": {
   "codemirror_mode": {
    "name": "ipython",
    "version": 3
   },
   "file_extension": ".py",
   "mimetype": "text/x-python",
   "name": "python",
   "nbconvert_exporter": "python",
   "pygments_lexer": "ipython3",
   "version": "3.9.4"
  }
 },
 "nbformat": 4,
 "nbformat_minor": 5
}
