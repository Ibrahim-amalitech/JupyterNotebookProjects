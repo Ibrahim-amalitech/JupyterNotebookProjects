{
 "cells": [
  {
   "cell_type": "markdown",
   "id": "f0b9b4b2",
   "metadata": {},
   "source": [
    "# Nosh Mish Mosh: An Assortment of Edible Aliments"
   ]
  },
  {
   "cell_type": "markdown",
   "id": "79323f1a",
   "metadata": {},
   "source": [
    "We’ve collected customer data for the past week and exposed it through a Python library, so first import noshmishmosh"
   ]
  },
  {
   "cell_type": "code",
   "execution_count": 6,
   "id": "5e506ff6",
   "metadata": {},
   "outputs": [],
   "source": [
    "import noshmishmosh\n",
    "import numpy as np"
   ]
  },
  {
   "cell_type": "markdown",
   "id": "2aaa4514",
   "metadata": {},
   "source": [
    "Nosh Mish Mosh wants to run an experiment to see if we can convince more people to purchase meal plans if we use a more artisanal-looking vegetable selection. We’ve photographed these modern meals with blush tomatoes and graffiti eggplants, but aren’t sure if this strategy will sell enough units to benefit from establishing a business relationship with a new provider.\n",
    "\n",
    "Before running this experiment, of course, we need to know the sample size that will be required to detect the difference we are hoping for. There are three things we need to know before we can determine that number.\n",
    "\n",
    "1. the Baseline Conversion Rate\n",
    "2. desired Lift (minimum detectable effect)\n",
    "3. and the Statistical Significance Threshold\n"
   ]
  },
  {
   "cell_type": "markdown",
   "id": "aa651f2d",
   "metadata": {},
   "source": [
    "In order to get our baseline, we need to first know how many users visit the site in a typical week. Let’s grab that logged information, which is stored in noshmishmosh.customer_visits. Assign that to a new variable called all_visitors"
   ]
  },
  {
   "cell_type": "code",
   "execution_count": null,
   "id": "d68b36a7",
   "metadata": {},
   "outputs": [],
   "source": [
    "all_visitors=noshmishmosh.customer_visits"
   ]
  },
  {
   "cell_type": "markdown",
   "id": "0d7a39c0",
   "metadata": {},
   "source": [
    "Next we need to know how many visitors to the site ultimately end up buying a meal or set of meals in a typical week. We have that information saved into purchasing_customers field on noshmishmosh. Save that information into a variable called paying_visitors"
   ]
  },
  {
   "cell_type": "code",
   "execution_count": null,
   "id": "4d2a7432",
   "metadata": {},
   "outputs": [],
   "source": [
    "paying_visitors=noshmishmosh.purchasing_customers"
   ]
  },
  {
   "cell_type": "markdown",
   "id": "a79bf948",
   "metadata": {},
   "source": [
    "Calculate the lengths of the two lists, saving the results into variables called total_visitor_count and paying_visitor_count, respectively."
   ]
  },
  {
   "cell_type": "code",
   "execution_count": null,
   "id": "c8ab97e1",
   "metadata": {},
   "outputs": [],
   "source": [
    "total_visitor_count =len(all_visitors)\n",
    "paying_visitor_count=len(paying_visitors)"
   ]
  },
  {
   "cell_type": "markdown",
   "id": "79e1936c",
   "metadata": {},
   "source": [
    "Now to get the baseline: Divide the number of purchasing visitors by the number of total visitors. Save the result in a variable called baseline_percent. Since we want a percentage as our answer, multiply the result by 100.0"
   ]
  },
  {
   "cell_type": "code",
   "execution_count": null,
   "id": "2c56527e",
   "metadata": {},
   "outputs": [],
   "source": [
    "baseline_percent=100*paying_visitor_count/total_visitor_count\n",
    "print(baseline_percent)"
   ]
  },
  {
   "cell_type": "markdown",
   "id": "5da8f83e",
   "metadata": {},
   "source": [
    "These rainbow fingerling potatoes don’t come cheap. We’d like to know for sure that, with this change, we’ll be pulling in at least $1240 more every week. In order to figure out how many more customers we need, we’ll have to investigate the average revenue generated from a given sale. Luckily we have a list of the money spent by each customer in a typical week: noshmishmosh.money_spent. Save that list into a variable called payment_history"
   ]
  },
  {
   "cell_type": "code",
   "execution_count": null,
   "id": "e2357a9d",
   "metadata": {},
   "outputs": [],
   "source": [
    "payment_history=noshmishmosh.money_spent"
   ]
  },
  {
   "cell_type": "markdown",
   "id": "100cd764",
   "metadata": {},
   "source": [
    "We need to find how many purchases it would take to reach $1240 in additional revenue using our historical data.\n",
    "Let’s start with computing the average payment per paying customer using np.mean, saving it as average_payment"
   ]
  },
  {
   "cell_type": "code",
   "execution_count": null,
   "id": "bda24c8f",
   "metadata": {},
   "outputs": [],
   "source": [
    "average_payment=np.mean(payment_history)"
   ]
  },
  {
   "cell_type": "markdown",
   "id": "95a3c9d5",
   "metadata": {},
   "source": [
    "We want to know how many of these “usual” payments it would take to clear our $1240 mark. Round the number up using np.ceil (because that’s how many new customers it takes to bring in more than $1240). Save that value into a new_customers_needed variable."
   ]
  },
  {
   "cell_type": "code",
   "execution_count": null,
   "id": "ffd2c650",
   "metadata": {},
   "outputs": [],
   "source": [
    "new_customers_needed =np.ceil(1240/average_payment)"
   ]
  },
  {
   "cell_type": "markdown",
   "id": "67f11e39",
   "metadata": {},
   "source": [
    "Now find the additional percent of weekly visitors who must make a purchase in order to make this change worthwhile. Do this by dividing the number of customers by the total visitor count for a typical week (calculated earlier), and multiplying by 100. Save the result in a variable called percentage_point_increase. Print percentage_point_increase to see what it is."
   ]
  },
  {
   "cell_type": "code",
   "execution_count": null,
   "id": "cfe6a1d4",
   "metadata": {},
   "outputs": [],
   "source": [
    "percentage_point_increase=100*new_customers_needed/total_visitor_count \n",
    "print(percentage_point_increase)"
   ]
  },
  {
   "cell_type": "markdown",
   "id": "0be012e3",
   "metadata": {},
   "source": [
    "In order to find our desired lift, we need to express percentage_point_increase as a percent of baseline_percent. You can do this by dividing percentage_point_increase by baseline_percent and multiplying by 100.0.\n",
    "\n",
    "Store the results in a variable called lift"
   ]
  },
  {
   "cell_type": "code",
   "execution_count": null,
   "id": "0aa0d3a7",
   "metadata": {},
   "outputs": [],
   "source": [
    "lift=100*percentage_point_increase/baseline_percent \n",
    "print(lift)"
   ]
  },
  {
   "cell_type": "markdown",
   "id": "937c9cc8",
   "metadata": {},
   "source": [
    "The last thing we need to calculate the sample size for Nosh Mish Mosh’s artisanal rebranding is our statistical significance threshold. We’d like to be fairly certain, but this isn’t going to be a million dollar decision, so let’s go with 10%\n",
    "Now put it all together! Punch the baseline, the minimum desired lift, and the statistical significance threshold into the calculator and evaluate how many people need to be shown the new assets before we can check if the results are a significant improvement. Save the results in a variable called ab_sample_size"
   ]
  },
  {
   "cell_type": "code",
   "execution_count": null,
   "id": "0dd00917",
   "metadata": {},
   "outputs": [],
   "source": [
    "ab_sample_size=494"
   ]
  }
 ],
 "metadata": {
  "kernelspec": {
   "display_name": "Python 3",
   "language": "python",
   "name": "python3"
  },
  "language_info": {
   "codemirror_mode": {
    "name": "ipython",
    "version": 3
   },
   "file_extension": ".py",
   "mimetype": "text/x-python",
   "name": "python",
   "nbconvert_exporter": "python",
   "pygments_lexer": "ipython3",
   "version": "3.9.4"
  }
 },
 "nbformat": 4,
 "nbformat_minor": 5
}
