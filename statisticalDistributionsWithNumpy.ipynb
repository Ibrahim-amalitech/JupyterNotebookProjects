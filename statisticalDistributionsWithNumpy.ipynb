{
 "cells": [
  {
   "cell_type": "markdown",
   "id": "9ced2a8f",
   "metadata": {},
   "source": [
    "Imagine that you work for a botanical garden and you want to see how the sunflowers you planted last year did to see if you want to plant more of them.\n",
    "\n",
    "Calculate the mean and standard deviation of this dataset. Save the mean to sunflowers_mean and the standard deviation to sunflowers_std.\n",
    "\n",
    "We can see from the histogram that our data isn’t normally distributed. Let’s create a normally distributed sample to compare against what we observed.Generate 5,000 random samples with the same mean and standard deviation as sunflowers. Save these to sunflowers_normal.\n",
    "\n",
    "Now that you generated sunflowers_normal, uncomment (remove all of the #) the second plt.hist statement. Press run to see your normal distribution and your observed distribution.\n",
    "\n",
    "\n",
    "Generally, 10% of sunflowers that are planted fail to bloom. We planted 200, and want to know the probability that fewer than 20 will fail to bloom.First, generate 5,000 binomial random numbers that represent our situation. Save them to experiments.\n",
    "\n",
    "What percent of experiments had fewer than 20 sunflowers fail to bloom?Save your answer to the variable prob. This is the approximate probability that fewer than 20 of our sunflowers will fail to bloom.\n",
    "\n",
    "\n",
    "Print prob. Is it likely that fewer than 20 of our sunflowers will fail to bloom?\n"
   ]
  },
  {
   "cell_type": "code",
   "execution_count": 3,
   "id": "e23c71d3",
   "metadata": {},
   "outputs": [
    {
     "ename": "ModuleNotFoundError",
     "evalue": "No module named 'codecademylib'",
     "output_type": "error",
     "traceback": [
      "\u001b[1;31m---------------------------------------------------------------------------\u001b[0m",
      "\u001b[1;31mModuleNotFoundError\u001b[0m                       Traceback (most recent call last)",
      "\u001b[1;32m<ipython-input-3-7ee041bd00cb>\u001b[0m in \u001b[0;36m<module>\u001b[1;34m\u001b[0m\n\u001b[1;32m----> 1\u001b[1;33m \u001b[1;32mimport\u001b[0m \u001b[0mcodecademylib\u001b[0m\u001b[1;33m\u001b[0m\u001b[1;33m\u001b[0m\u001b[0m\n\u001b[0m\u001b[0;32m      2\u001b[0m \u001b[1;32mimport\u001b[0m \u001b[0mnumpy\u001b[0m \u001b[1;32mas\u001b[0m \u001b[0mnp\u001b[0m\u001b[1;33m\u001b[0m\u001b[1;33m\u001b[0m\u001b[0m\n\u001b[0;32m      3\u001b[0m \u001b[1;32mfrom\u001b[0m \u001b[0mmatplotlib\u001b[0m \u001b[1;32mimport\u001b[0m \u001b[0mpyplot\u001b[0m \u001b[1;32mas\u001b[0m \u001b[0mplt\u001b[0m\u001b[1;33m\u001b[0m\u001b[1;33m\u001b[0m\u001b[0m\n\u001b[0;32m      4\u001b[0m \u001b[1;33m\u001b[0m\u001b[0m\n\u001b[0;32m      5\u001b[0m sunflowers = np.genfromtxt('sunflower_heights.csv',\n",
      "\u001b[1;31mModuleNotFoundError\u001b[0m: No module named 'codecademylib'"
     ]
    }
   ],
   "source": [
    "import codecademylib\n",
    "import numpy as np\n",
    "from matplotlib import pyplot as plt\n",
    "\n",
    "sunflowers = np.genfromtxt('sunflower_heights.csv',\n",
    "                           delimiter=',')\n",
    "\n",
    "# Calculate mean and std of sunflowers here:\n",
    "sunflowers_mean =np.mean(sunflowers)\n",
    "sunflowers_std=np.std(sunflowers)\n",
    "sunflowers_normal=np.random.normal(sunflowers_mean,sunflowers_std,size=5000)\n",
    "\n",
    "\n",
    "# Calculate sunflowers_normal here:\n",
    "\n",
    "\n",
    "plt.hist(sunflowers,\n",
    "         range=(11, 15), histtype='step', linewidth=2,\n",
    "        label='observed', normed=True)\n",
    "plt.hist(sunflowers_normal,\n",
    "        range=(11, 15), histtype='step', linewidth=2,\n",
    "       label='normal', normed=True)\n",
    "plt.legend()\n",
    "plt.show()\n",
    "\n",
    "# Calculate probabilities here:\n",
    "experiments=np.random.binomial(200,0.1,5000)\n",
    "prob=np.mean(experiments<20)\n",
    "print(prob)"
   ]
  },
  {
   "cell_type": "markdown",
   "id": "743e5c0f",
   "metadata": {},
   "source": [
    "Unfortunately the sunflowers.csv is not available to us. Therefore, the error we are getting."
   ]
  },
  {
   "cell_type": "code",
   "execution_count": null,
   "id": "49075ed2",
   "metadata": {},
   "outputs": [],
   "source": []
  }
 ],
 "metadata": {
  "kernelspec": {
   "display_name": "Python 3",
   "language": "python",
   "name": "python3"
  },
  "language_info": {
   "codemirror_mode": {
    "name": "ipython",
    "version": 3
   },
   "file_extension": ".py",
   "mimetype": "text/x-python",
   "name": "python",
   "nbconvert_exporter": "python",
   "pygments_lexer": "ipython3",
   "version": "3.9.4"
  }
 },
 "nbformat": 4,
 "nbformat_minor": 5
}
