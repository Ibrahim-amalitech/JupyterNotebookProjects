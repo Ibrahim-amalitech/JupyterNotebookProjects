{
 "cells": [
  {
   "cell_type": "markdown",
   "id": "e837c008",
   "metadata": {},
   "source": [
    "# Life Expectancy By Country"
   ]
  },
  {
   "cell_type": "markdown",
   "id": "68c8d6bd",
   "metadata": {},
   "source": [
    "Over the course of the past few centuries, technological and medical advancements have helped increase the life expectancy of humans. However, as of now, the average life expectancy of humans varies depending on what country you live in.\n",
    "\n",
    "In this project, we will investigate a dataset containing information about the average life expectancy in 158 different countries. We will specifically look at how a country’s economic success might impact the life expectancy in that area."
   ]
  },
  {
   "cell_type": "markdown",
   "id": "8f80c471",
   "metadata": {},
   "source": [
    "We’ve imported a dataset containing the life expectancy in different countries. The data can be found in the variable named data. To begin, let’s get a sense of what this data looks like. Print data.head() to see the first 5 rows of the dataset"
   ]
  },
  {
   "cell_type": "code",
   "execution_count": 1,
   "id": "97abbd32",
   "metadata": {},
   "outputs": [
    {
     "name": "stdout",
     "output_type": "stream",
     "text": [
      "               Country  Life Expectancy          GDP\n",
      "0          Afghanistan         58.19375   340.015425\n",
      "1              Albania         75.15625  2119.726679\n",
      "2              Algeria         73.61875  2847.853392\n",
      "3               Angola         49.01875  1975.143045\n",
      "4  Antigua and Barbuda         75.05625  9759.305728\n"
     ]
    }
   ],
   "source": [
    "import numpy as np\n",
    "import pandas as pd\n",
    "import matplotlib.pyplot as plt\n",
    "\n",
    "data = pd.read_csv(\"country_data.csv\")\n",
    "print(data.head())"
   ]
  },
  {
   "cell_type": "markdown",
   "id": "1fcebdae",
   "metadata": {},
   "source": [
    "Let’s isolate the column that contains the life expectancy and store it in a variable named life_expectancy"
   ]
  },
  {
   "cell_type": "code",
   "execution_count": 2,
   "id": "0b9517fb",
   "metadata": {},
   "outputs": [],
   "source": [
    "life_expectancy=data['Life Expectancy']"
   ]
  },
  {
   "cell_type": "markdown",
   "id": "332648bd",
   "metadata": {},
   "source": [
    "We can now use NumPy functions on that column! Let’s use the np.quantile() function to find the quartiles of life_expectancy. Store the result in a variable named life_expectancy_quartiles and print the results"
   ]
  },
  {
   "cell_type": "code",
   "execution_count": 3,
   "id": "868fbf91",
   "metadata": {},
   "outputs": [
    {
     "name": "stdout",
     "output_type": "stream",
     "text": [
      "[62.325     72.525     75.4421875]\n"
     ]
    }
   ],
   "source": [
    "life_expectancy_quartiles =np.quantile(life_expectancy,[0.25,0.5,0.75])\n",
    "print(life_expectancy_quartiles)"
   ]
  },
  {
   "cell_type": "markdown",
   "id": "8b524d8b",
   "metadata": {},
   "source": [
    "By looking at those three values you can get a sense of the spread of the data. For example, it seems like some of the data is fairly close together — a quarter of the data is between 72.5 years and 75.4 years. Could you predict what the histogram might look like from those three number? Plot the histogram by using the following two lines of code. Does it look how you expected?"
   ]
  },
  {
   "cell_type": "code",
   "execution_count": 4,
   "id": "f10c4da0",
   "metadata": {},
   "outputs": [
    {
     "data": {
      "image/png": "[encoded data removed]",
      "text/plain": [
       "<Figure size 432x288 with 1 Axes>"
      ]
     },
     "metadata": {
      "needs_background": "light"
     },
     "output_type": "display_data"
    }
   ],
   "source": [
    "plt.hist(life_expectancy)\n",
    "plt.show()"
   ]
  },
  {
   "cell_type": "markdown",
   "id": "1883aa7a",
   "metadata": {},
   "source": [
    "Let’s take a moment to think about the meaning of these quartiles. If your country has a life expectancy of 70 years, does that fall in the first, second, third, or final quarter of the data?"
   ]
  },
  {
   "cell_type": "markdown",
   "id": "b6c03e15",
   "metadata": {},
   "source": [
    "70 is between the first and second quartile, so it falls in the second quarter of the data."
   ]
  },
  {
   "cell_type": "markdown",
   "id": "1ba836c8",
   "metadata": {},
   "source": [
    "GDP is a mesaure of a country’s wealth. Let’s now use the GDP data to see if life expectancy is affected by this value.\n",
    "\n",
    "Let’s split the data into two groups based on GDP. If we find the median GDP, we can create two datasets for “low GDP countries” and “high GDP countries.\n",
    "\n",
    "To start, let’s isolate the GDP column and store it in a variable named gdp. This should be similar to how you isolated the life expectancy column."
   ]
  },
  {
   "cell_type": "code",
   "execution_count": 5,
   "id": "b7fc0b0f",
   "metadata": {},
   "outputs": [],
   "source": [
    "gdp=data['GDP']"
   ]
  },
  {
   "cell_type": "markdown",
   "id": "63a2f68d",
   "metadata": {},
   "source": [
    "We now want to find the median GDP. You can use NumPy’s np.median() function, but since the median is also a quantile, we can call np.quanitle() using 0.5 as the second parameter. Store the median in a variable named median_gdp. Print that variable to see the median"
   ]
  },
  {
   "cell_type": "code",
   "execution_count": 6,
   "id": "e28cc4f8",
   "metadata": {},
   "outputs": [],
   "source": [
    "median_gdp = np.quantile(gdp, 0.5)"
   ]
  },
  {
   "cell_type": "markdown",
   "id": "ef450a2b",
   "metadata": {},
   "source": [
    "Let’s now grab all of the rows from our original dataset that have a GDP less than or equal to the median\n",
    "Do the same for all of the rows that have a GDP higher than the median. Store those rows in a variable named high_gdp"
   ]
  },
  {
   "cell_type": "code",
   "execution_count": 7,
   "id": "9dda2213",
   "metadata": {},
   "outputs": [],
   "source": [
    "low_gdp = data[data['GDP'] <= median_gdp]\n",
    "high_gdp=data[data['GDP'] >= median_gdp]"
   ]
  },
  {
   "cell_type": "markdown",
   "id": "cea598ff",
   "metadata": {},
   "source": [
    "Now that we’ve split the data based on the GDP, let’s see how the life expectancy of each group compares to each other. Find the quartiles of the \"Life Expectancy\" column of low_gdp. Store the quartiles in a variable named low_gdp_quartiles. Print the results."
   ]
  },
  {
   "cell_type": "code",
   "execution_count": 8,
   "id": "dab43d04",
   "metadata": {},
   "outputs": [
    {
     "name": "stdout",
     "output_type": "stream",
     "text": [
      "[56.3375  64.34375 71.7375 ]\n"
     ]
    }
   ],
   "source": [
    "low_gdp_quartiles=np.quantile(low_gdp[\"Life Expectancy\"],[0.25,0.5,0.75])\n",
    "print(low_gdp_quartiles)"
   ]
  },
  {
   "cell_type": "markdown",
   "id": "1766fdce",
   "metadata": {},
   "source": [
    "Find the quartiles of the high GDP countries and store them in a variable named high_gdp_quartiles. This should look very similar to the last line of code you wrote. Print the results."
   ]
  },
  {
   "cell_type": "code",
   "execution_count": 9,
   "id": "73531716",
   "metadata": {},
   "outputs": [
    {
     "name": "stdout",
     "output_type": "stream",
     "text": [
      "[72.965625 75.15625  80.521875]\n"
     ]
    }
   ],
   "source": [
    "high_gdp_quartiles=np.quantile(high_gdp[\"Life Expectancy\"],[0.25,0.5,0.75])\n",
    "print(high_gdp_quartiles)"
   ]
  },
  {
   "cell_type": "markdown",
   "id": "817e130c",
   "metadata": {},
   "source": [
    "By looking at the quantiles, you should get a sense of the spread and central tendency of these two datasets. But let’s plot a histogram of each dataset to really compare them."
   ]
  },
  {
   "cell_type": "code",
   "execution_count": 10,
   "id": "d4f927e6",
   "metadata": {},
   "outputs": [
    {
     "data": {
      "image/png": "[encoded data removed]",
      "text/plain": [
       "<Figure size 432x288 with 1 Axes>"
      ]
     },
     "metadata": {
      "needs_background": "light"
     },
     "output_type": "display_data"
    }
   ],
   "source": [
    "plt.hist(high_gdp[\"Life Expectancy\"], alpha = 0.5, label = \"High GDP\")\n",
    "plt.hist(low_gdp[\"Life Expectancy\"], alpha = 0.5, label = \"Low GDP\")\n",
    "plt.legend()\n",
    "plt.show()"
   ]
  },
  {
   "cell_type": "markdown",
   "id": "0c9848e2",
   "metadata": {},
   "source": [
    "We can now truly see the impact GDP has on life expectancy.\n",
    "\n",
    "Once again, consider a country that has a life expectancy of 70 years. If that country is in the top half of GDP countries, is it in the first, second, third, or fourth quarter of the data with respect to life expectancy? What if the country is in the bottom half of GDP countries?"
   ]
  },
  {
   "cell_type": "markdown",
   "id": "fb384f7c",
   "metadata": {},
   "source": [
    "70 is below the first quartile of the high GDP dataset, so it falls in the first quarter of that dataset. 70 is between the second and third quartile of the low GDP dataset, so it falls in the third quarter"
   ]
  },
  {
   "cell_type": "code",
   "execution_count": null,
   "id": "e1d4ccf6",
   "metadata": {},
   "outputs": [],
   "source": []
  }
 ],
 "metadata": {
  "kernelspec": {
   "display_name": "Python 3",
   "language": "python",
   "name": "python3"
  },
  "language_info": {
   "codemirror_mode": {
    "name": "ipython",
    "version": 3
   },
   "file_extension": ".py",
   "mimetype": "text/x-python",
   "name": "python",
   "nbconvert_exporter": "python",
   "pygments_lexer": "ipython3",
   "version": "3.9.4"
  }
 },
 "nbformat": 4,
 "nbformat_minor": 5
}
