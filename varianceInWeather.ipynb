{
 "cells": [
  {
   "cell_type": "markdown",
   "id": "5be67832",
   "metadata": {},
   "source": [
    "# Variance in Weather"
   ]
  },
  {
   "cell_type": "markdown",
   "id": "ed6c110d",
   "metadata": {},
   "source": [
    "You’re planning a trip to London and want to get a sense of the best time of the year to visit. Luckily, you got your hands on a dataset from 2015 that contains over 39,000 data points about weather conditions in London. Surely, with this much information, you can discover something useful about when to make your trip!"
   ]
  },
  {
   "cell_type": "markdown",
   "id": "da2fdff6",
   "metadata": {},
   "source": [
    "All of the weather data is stored in a variable named london_data.\n",
    "\n",
    "Print the first few rows of the dataset by calling print(london_data.head())"
   ]
  },
  {
   "cell_type": "code",
   "execution_count": null,
   "id": "5bc42eee",
   "metadata": {},
   "outputs": [],
   "source": [
    "import codecademylib3_seaborn\n",
    "import pandas as pd\n",
    "import numpy as np\n",
    "from weather_data import london_data\n",
    "\n",
    "print(london_data.head())\n",
    "print(london_data.iloc[100:200])\n",
    "print(len(london_data))\n",
    "temp =london_data[\"TemperatureC\"]\n",
    "average_temp=np.mean(temp)\n",
    "temperature_var=np.var(temp)\n",
    "print(average_temp)\n",
    "print(temperature_var)\n",
    "temperature_standard_deviation=np.std(temp)\n",
    "print(temperature_standard_deviation)\n",
    "# print(london_data.head())\n",
    "june=london_data.loc[london_data['month']==6][\"TemperatureC\"]\n",
    "july=london_data.loc[london_data['month']==7]['TemperatureC']\n",
    "print(np.mean(june))\n",
    "print(np.mean(july))\n",
    "print(np.std(june))\n",
    "print(np.std(july))\n",
    "\n",
    "for i in range(1, 13):\n",
    "  month = london_data.loc[london_data[\"month\"] == i][\"TemperatureC\"]\n",
    "  print(\"The mean temperature in month \"+str(i) +\" is \"+ str(np.mean(month)))\n",
    "  print(\"The standard deviation of temperature in month \"+str(i) +\" is \"+ str(np.std(month)) +\"\\n\")"
   ]
  },
  {
   "cell_type": "code",
   "execution_count": null,
   "id": "19eff31d",
   "metadata": {},
   "outputs": [],
   "source": []
  }
 ],
 "metadata": {
  "kernelspec": {
   "display_name": "Python 3",
   "language": "python",
   "name": "python3"
  },
  "language_info": {
   "codemirror_mode": {
    "name": "ipython",
    "version": 3
   },
   "file_extension": ".py",
   "mimetype": "text/x-python",
   "name": "python",
   "nbconvert_exporter": "python",
   "pygments_lexer": "ipython3",
   "version": "3.9.4"
  }
 },
 "nbformat": 4,
 "nbformat_minor": 5
}
