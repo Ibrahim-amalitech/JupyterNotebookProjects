{
 "cells": [
  {
   "cell_type": "markdown",
   "id": "66ace276",
   "metadata": {},
   "source": [
    "# A/B Testing for ShoeFly.com"
   ]
  },
  {
   "cell_type": "markdown",
   "id": "3f69f569",
   "metadata": {},
   "source": [
    "Our favorite online shoe store, ShoeFly.com is performing an A/B Test. They have two different versions of an ad, which they have placed in emails, as well as in banner ads on Facebook, Twitter, and Google. They want to know how the two ads are performing on each of the different platforms on each day of the week. Help them analyze the data using aggregate measures."
   ]
  },
  {
   "cell_type": "markdown",
   "id": "ffeaf267",
   "metadata": {},
   "source": [
    "Examine the first few rows of ad_clicks"
   ]
  },
  {
   "cell_type": "code",
   "execution_count": 2,
   "id": "674b6730",
   "metadata": {},
   "outputs": [
    {
     "name": "stdout",
     "output_type": "stream",
     "text": [
      "                                user_id utm_source           day  \\\n",
      "0  008b7c6c-7272-471e-b90e-930d548bd8d7     google  6 - Saturday   \n",
      "1  009abb94-5e14-4b6c-bb1c-4f4df7aa7557   facebook    7 - Sunday   \n",
      "2  00f5d532-ed58-4570-b6d2-768df5f41aed    twitter   2 - Tuesday   \n",
      "3  011adc64-0f44-4fd9-a0bb-f1506d2ad439     google   2 - Tuesday   \n",
      "4  012137e6-7ae7-4649-af68-205b4702169c   facebook    7 - Sunday   \n",
      "\n",
      "  ad_click_timestamp experimental_group  \n",
      "0               7:18                  A  \n",
      "1                NaN                  B  \n",
      "2                NaN                  A  \n",
      "3                NaN                  B  \n",
      "4                NaN                  B  \n"
     ]
    }
   ],
   "source": [
    "import pandas as pd\n",
    "\n",
    "ad_clicks = pd.read_csv('ad_clicks.csv')\n",
    "print(ad_clicks.head())"
   ]
  },
  {
   "cell_type": "markdown",
   "id": "3f66cfce",
   "metadata": {},
   "source": [
    "Your manager wants to know which ad platform is getting you the most views. How many views (i.e., rows of the table) came from each utm_source?"
   ]
  },
  {
   "cell_type": "code",
   "execution_count": 3,
   "id": "b2bbbc20",
   "metadata": {},
   "outputs": [
    {
     "name": "stdout",
     "output_type": "stream",
     "text": [
      "  utm_source  user_id\n",
      "0      email      255\n",
      "1   facebook      504\n",
      "2     google      680\n",
      "3    twitter      215\n"
     ]
    }
   ],
   "source": [
    "print(ad_clicks.groupby('utm_source').user_id.count().reset_index())"
   ]
  },
  {
   "cell_type": "markdown",
   "id": "b3432744",
   "metadata": {},
   "source": [
    "If the column ad_click_timestamp is not null, then someone actually clicked on the ad that was displayed. Create a new column called is_click, which is True if ad_click_timestamp is not null and False otherwise."
   ]
  },
  {
   "cell_type": "code",
   "execution_count": 4,
   "id": "a41bc9f5",
   "metadata": {},
   "outputs": [
    {
     "name": "stdout",
     "output_type": "stream",
     "text": [
      "                                   user_id utm_source            day  \\\n",
      "0     008b7c6c-7272-471e-b90e-930d548bd8d7     google   6 - Saturday   \n",
      "1     009abb94-5e14-4b6c-bb1c-4f4df7aa7557   facebook     7 - Sunday   \n",
      "2     00f5d532-ed58-4570-b6d2-768df5f41aed    twitter    2 - Tuesday   \n",
      "3     011adc64-0f44-4fd9-a0bb-f1506d2ad439     google    2 - Tuesday   \n",
      "4     012137e6-7ae7-4649-af68-205b4702169c   facebook     7 - Sunday   \n",
      "...                                    ...        ...            ...   \n",
      "1649  fe8b5236-78f6-4192-9da6-a76bba67cfe6    twitter     7 - Sunday   \n",
      "1650  fed3db6d-8c92-40e3-a4fb-1fb9d7337eb1   facebook     5 - Friday   \n",
      "1651  ff3a22ff-521c-478c-87ca-7dc7b8f34372    twitter  3 - Wednesday   \n",
      "1652  ff3af0d6-b092-4c4d-9f2e-2bdd8f7c0732     google     1 - Monday   \n",
      "1653  ffdfe7ec-0c74-4623-8d90-d95d80f1ba34   facebook   6 - Saturday   \n",
      "\n",
      "     ad_click_timestamp experimental_group  is_click  \n",
      "0                  7:18                  A     False  \n",
      "1                   NaN                  B      True  \n",
      "2                   NaN                  A      True  \n",
      "3                   NaN                  B      True  \n",
      "4                   NaN                  B      True  \n",
      "...                 ...                ...       ...  \n",
      "1649                NaN                  A      True  \n",
      "1650                NaN                  B      True  \n",
      "1651                NaN                  B      True  \n",
      "1652              22:57                  A     False  \n",
      "1653                NaN                  B      True  \n",
      "\n",
      "[1654 rows x 6 columns]\n"
     ]
    }
   ],
   "source": [
    "ad_clicks['is_click']=ad_clicks.ad_click_timestamp.isnull()\n",
    "print(ad_clicks)"
   ]
  },
  {
   "cell_type": "markdown",
   "id": "c5fdd99d",
   "metadata": {},
   "source": [
    "We want to know the percent of people who clicked on ads from each utm_source. Start by grouping by utm_source and is_click and counting the number of user_id‘s in each of those groups. Save your answer to the variable clicks_by_source"
   ]
  },
  {
   "cell_type": "code",
   "execution_count": 5,
   "id": "66f4d078",
   "metadata": {},
   "outputs": [
    {
     "name": "stdout",
     "output_type": "stream",
     "text": [
      "  utm_source  is_click  user_id\n",
      "0      email     False       80\n",
      "1      email      True      175\n",
      "2   facebook     False      180\n",
      "3   facebook      True      324\n",
      "4     google     False      239\n",
      "5     google      True      441\n",
      "6    twitter     False       66\n",
      "7    twitter      True      149\n"
     ]
    }
   ],
   "source": [
    "clicks_by_source=ad_clicks.groupby(['utm_source','is_click'])['user_id'].count().reset_index()\n",
    "print(clicks_by_source)"
   ]
  },
  {
   "cell_type": "markdown",
   "id": "3081488a",
   "metadata": {},
   "source": [
    "Now let’s pivot the data so that the columns are is_click (either True or False), the index is utm_source, and the values are user_id. Save your results to the variable clicks_pivot"
   ]
  },
  {
   "cell_type": "code",
   "execution_count": 6,
   "id": "4a6d23ba",
   "metadata": {},
   "outputs": [
    {
     "name": "stdout",
     "output_type": "stream",
     "text": [
      "is_click utm_source  False  True\n",
      "0             email     80   175\n",
      "1          facebook    180   324\n",
      "2            google    239   441\n",
      "3           twitter     66   149\n"
     ]
    }
   ],
   "source": [
    "clicks_pivot=clicks_by_source.pivot(\n",
    "  columns='is_click',\n",
    "  index= 'utm_source',\n",
    "  values='user_id'\n",
    ").reset_index()\n",
    "print(clicks_pivot)"
   ]
  },
  {
   "cell_type": "markdown",
   "id": "6d441b3b",
   "metadata": {},
   "source": [
    "Create a new column in clicks_pivot called percent_clicked which is equal to the percent of users who clicked on the ad from each utm_source. Was there a difference in click rates for each source?"
   ]
  },
  {
   "cell_type": "code",
   "execution_count": 7,
   "id": "28391462",
   "metadata": {},
   "outputs": [
    {
     "name": "stdout",
     "output_type": "stream",
     "text": [
      "is_click utm_source  False  True  percent_clicked\n",
      "0             email     80   175        68.627451\n",
      "1          facebook    180   324        64.285714\n",
      "2            google    239   441        64.852941\n",
      "3           twitter     66   149        69.302326\n"
     ]
    }
   ],
   "source": [
    "clicks_pivot['percent_clicked']=clicks_pivot[True]*100/(clicks_pivot[True] + clicks_pivot[False])\n",
    "print(clicks_pivot)"
   ]
  },
  {
   "cell_type": "markdown",
   "id": "0b3a00d4",
   "metadata": {},
   "source": [
    "The column experimental_group tells us whether the user was shown Ad A or Ad B. Were approximately the same number of people shown both adds?"
   ]
  },
  {
   "cell_type": "code",
   "execution_count": 9,
   "id": "0cc5da6d",
   "metadata": {},
   "outputs": [
    {
     "name": "stdout",
     "output_type": "stream",
     "text": [
      "  experimental_group  user_id\n",
      "0                  A      827\n",
      "1                  B      827\n"
     ]
    }
   ],
   "source": [
    "Add_A_or_B=ad_clicks.groupby('experimental_group').user_id.count().reset_index()\n",
    "print(Add_A_or_B)"
   ]
  },
  {
   "cell_type": "markdown",
   "id": "2dcdeba2",
   "metadata": {},
   "source": [
    "From the above,it is clear that approximately the same number of users were shown ad A or ad B"
   ]
  },
  {
   "cell_type": "markdown",
   "id": "689925d9",
   "metadata": {},
   "source": [
    "Using the column is_click that we defined earlier, check to see if a greater percentage of users clicked on Ad A or Ad B"
   ]
  },
  {
   "cell_type": "code",
   "execution_count": 10,
   "id": "500d9c04",
   "metadata": {},
   "outputs": [],
   "source": [
    "percent_ad_click=ad_clicks.groupby(['experimental_group','is_click'])['user_id'].count().reset_index()"
   ]
  },
  {
   "cell_type": "code",
   "execution_count": 11,
   "id": "3bbccfc8",
   "metadata": {},
   "outputs": [
    {
     "name": "stdout",
     "output_type": "stream",
     "text": [
      "is_click experimental_group  False  True\n",
      "0                         A    310   517\n",
      "1                         B    255   572\n"
     ]
    }
   ],
   "source": [
    "print(percent_ad_click.pivot(\n",
    "  columns='is_click',\n",
    "  index='experimental_group',\n",
    "  values='user_id'\n",
    ").reset_index())"
   ]
  },
  {
   "cell_type": "markdown",
   "id": "3ed5c398",
   "metadata": {},
   "source": [
    "Yes a greater percentage of users clicked on the ads"
   ]
  },
  {
   "cell_type": "markdown",
   "id": "f6192c2a",
   "metadata": {},
   "source": [
    "The Product Manager for the A/B test thinks that the clicks might have changed by day of the week. Start by creating two DataFrames: a_clicks and b_clicks, which contain only the results for A group and B group, respectively."
   ]
  },
  {
   "cell_type": "code",
   "execution_count": 12,
   "id": "43dfa97c",
   "metadata": {},
   "outputs": [],
   "source": [
    "a_clicks = ad_clicks[\n",
    "   ad_clicks.experimental_group\n",
    "   == 'A']\n",
    "b_clicks = ad_clicks[\n",
    "   ad_clicks.experimental_group\n",
    "   == 'B']"
   ]
  },
  {
   "cell_type": "markdown",
   "id": "c4c59756",
   "metadata": {},
   "source": [
    "For each group (a_clicks and b_clicks), calculate the percent of users who clicked on the ad by day"
   ]
  },
  {
   "cell_type": "code",
   "execution_count": 14,
   "id": "c7c8c1e3",
   "metadata": {},
   "outputs": [
    {
     "name": "stdout",
     "output_type": "stream",
     "text": [
      "is_click            day  False  True\n",
      "0            1 - Monday     43    70\n",
      "1           2 - Tuesday     43    76\n",
      "2         3 - Wednesday     38    86\n",
      "3          4 - Thursday     47    69\n",
      "4            5 - Friday     51    77\n",
      "5          6 - Saturday     45    73\n",
      "6            7 - Sunday     43    66\n",
      "is_click            day  False  True\n",
      "0            1 - Monday     32    81\n",
      "1           2 - Tuesday     45    74\n",
      "2         3 - Wednesday     35    89\n",
      "3          4 - Thursday     29    87\n",
      "4            5 - Friday     38    90\n",
      "5          6 - Saturday     42    76\n",
      "6            7 - Sunday     34    75\n"
     ]
    }
   ],
   "source": [
    "clicked_A=a_clicks.groupby(['is_click','day']).user_id.count().reset_index().pivot(\n",
    "  columns='is_click',\n",
    "  index='day',\n",
    "  values='user_id').reset_index()\n",
    "\n",
    "clicked_B=b_clicks.groupby(['is_click','day']).user_id.count().reset_index().pivot(\n",
    "  columns='is_click',\n",
    "  index='day',\n",
    "  values='user_id').reset_index()\n",
    "print(clicked_A)\n",
    "\n",
    "print(clicked_B)"
   ]
  },
  {
   "cell_type": "code",
   "execution_count": null,
   "id": "e70371fd",
   "metadata": {},
   "outputs": [],
   "source": []
  }
 ],
 "metadata": {
  "kernelspec": {
   "display_name": "Python 3",
   "language": "python",
   "name": "python3"
  },
  "language_info": {
   "codemirror_mode": {
    "name": "ipython",
    "version": 3
   },
   "file_extension": ".py",
   "mimetype": "text/x-python",
   "name": "python",
   "nbconvert_exporter": "python",
   "pygments_lexer": "ipython3",
   "version": "3.9.4"
  }
 },
 "nbformat": 4,
 "nbformat_minor": 5
}
