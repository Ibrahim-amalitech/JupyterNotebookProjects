{
 "cells": [
  {
   "cell_type": "markdown",
   "id": "da91c860",
   "metadata": {},
   "source": [
    "PROJECT DESCRIPTION\n",
    "\n",
    "Betty has always used her grandmother’s recipe book to make cookies, cakes, pancakes, and bread for her friends and family. She’s getting ready to open a business and will need to start buying all of her milk, eggs, sugar, flour, and butter in bulk.\n",
    "\n",
    "Help Betty figure out how much she needs to buy using NumPy arrays describing her recipes.\n",
    "\n",
    "If you get stuck during this project or would like to see an experienced developer work through it, click “Get Unstuck“ to see a project walkthrough video."
   ]
  },
  {
   "cell_type": "markdown",
   "id": "7dcc943c",
   "metadata": {},
   "source": [
    "Start by importing NumPy as np."
   ]
  },
  {
   "cell_type": "code",
   "execution_count": 1,
   "id": "5ed84496",
   "metadata": {},
   "outputs": [],
   "source": [
    "import numpy as np"
   ]
  },
  {
   "cell_type": "markdown",
   "id": "55920ce8",
   "metadata": {},
   "source": [
    "Create a NumPy array that represents this data. Each element should be a number (i.e., 2 for “2 cups”). Save this array as cupcakes."
   ]
  },
  {
   "cell_type": "code",
   "execution_count": 2,
   "id": "6b72c70a",
   "metadata": {},
   "outputs": [],
   "source": [
    "cupcakes=np.array([2,0.75,2,1,0.5])"
   ]
  },
  {
   "cell_type": "markdown",
   "id": "f64e0443",
   "metadata": {},
   "source": [
    "Betty’s assistant has compiled all of her recipes into a csv (comma-separated variable) file called recipes.csv. Load this file into a variable called recipes."
   ]
  },
  {
   "cell_type": "code",
   "execution_count": 3,
   "id": "03c60114",
   "metadata": {},
   "outputs": [],
   "source": [
    "recipes=np.genfromtxt('recipes.csv',delimiter=',')"
   ]
  },
  {
   "cell_type": "markdown",
   "id": "7c93bbe2",
   "metadata": {},
   "source": [
    "Display recipes using print.\n",
    "\n",
    "Each row represents a different recipe. Each column represents a different ingredient."
   ]
  },
  {
   "cell_type": "code",
   "execution_count": 4,
   "id": "7356a9c8",
   "metadata": {},
   "outputs": [
    {
     "name": "stdout",
     "output_type": "stream",
     "text": [
      "[[2.    0.75  2.    1.    0.5  ]\n",
      " [1.    0.125 1.    1.    0.125]\n",
      " [2.75  1.5   1.    0.    1.   ]\n",
      " [4.    0.5   2.    2.    0.5  ]]\n"
     ]
    }
   ],
   "source": [
    "print(recipes)"
   ]
  },
  {
   "cell_type": "markdown",
   "id": "0cf6f599",
   "metadata": {},
   "source": [
    "The 3rd column represents the number of eggs that each recipe needs.\n",
    "\n",
    "Select all elements from the 3rd column and save them to the variable eggs."
   ]
  },
  {
   "cell_type": "code",
   "execution_count": 5,
   "id": "e8c49cc7",
   "metadata": {},
   "outputs": [
    {
     "name": "stdout",
     "output_type": "stream",
     "text": [
      "[2. 1. 1. 2.]\n"
     ]
    }
   ],
   "source": [
    "eggs=recipes[:,2]\n",
    "print(eggs)"
   ]
  },
  {
   "cell_type": "markdown",
   "id": "d4fbb5ee",
   "metadata": {},
   "source": [
    "Which recipes require exactly 1 egg? Use a logical statement to get True or False for each value of eggs"
   ]
  },
  {
   "cell_type": "code",
   "execution_count": 6,
   "id": "df92c95c",
   "metadata": {},
   "outputs": [],
   "source": [
    "recipe_one_egg=recipes[(eggs==1)]"
   ]
  },
  {
   "cell_type": "markdown",
   "id": "7033f93a",
   "metadata": {},
   "source": [
    "Betty is going to make 2 batches of cupcakes (1st row) and 1 batch of cookies (3rd row).\n",
    "\n",
    "You already have a variable for cupcakes. Create a variable for cookies with the data from the 3rd row.\n"
   ]
  },
  {
   "cell_type": "code",
   "execution_count": 7,
   "id": "f8980fb0",
   "metadata": {},
   "outputs": [],
   "source": [
    "cookies = recipes[2,:]"
   ]
  },
  {
   "cell_type": "markdown",
   "id": "dd4b6039",
   "metadata": {},
   "source": [
    "Get the number of ingredients for a double batch of cupcakes by using multiplication on cupcakes. Save your new variable to double_batch."
   ]
  },
  {
   "cell_type": "code",
   "execution_count": 8,
   "id": "74bced39",
   "metadata": {},
   "outputs": [],
   "source": [
    "double_batch=cupcakes*2"
   ]
  },
  {
   "cell_type": "markdown",
   "id": "dfe8ade0",
   "metadata": {},
   "source": [
    "Create a new variable called grocery_list by adding cookies and double_batch."
   ]
  },
  {
   "cell_type": "code",
   "execution_count": 9,
   "id": "9e612e5e",
   "metadata": {},
   "outputs": [
    {
     "name": "stdout",
     "output_type": "stream",
     "text": [
      "[6.75 3.   5.   2.   2.  ]\n"
     ]
    }
   ],
   "source": [
    "grocery_list=cookies + double_batch\n",
    "print(grocery_list)"
   ]
  },
  {
   "cell_type": "code",
   "execution_count": null,
   "id": "d1dcac8c",
   "metadata": {},
   "outputs": [],
   "source": []
  }
 ],
 "metadata": {
  "kernelspec": {
   "display_name": "Python 3",
   "language": "python",
   "name": "python3"
  },
  "language_info": {
   "codemirror_mode": {
    "name": "ipython",
    "version": 3
   },
   "file_extension": ".py",
   "mimetype": "text/x-python",
   "name": "python",
   "nbconvert_exporter": "python",
   "pygments_lexer": "ipython3",
   "version": "3.9.4"
  }
 },
 "nbformat": 4,
 "nbformat_minor": 5
}
