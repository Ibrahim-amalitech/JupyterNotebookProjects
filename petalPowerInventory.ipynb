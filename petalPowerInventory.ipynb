{
 "cells": [
  {
   "cell_type": "markdown",
   "id": "f1a8343a",
   "metadata": {},
   "source": [
    "                                         PETAL POWER INVENTORY\n",
    "You’re the lead data analyst for a chain of gardening stores called Petal Power. Help them analyze their inventory!"
   ]
  },
  {
   "cell_type": "markdown",
   "id": "0a5a510a",
   "metadata": {},
   "source": [
    "Data for all of the locations of Petal Power is in the file inventory.csv. Load the data into a DataFrame called inventory"
   ]
  },
  {
   "cell_type": "code",
   "execution_count": 1,
   "id": "8220ad16",
   "metadata": {},
   "outputs": [],
   "source": [
    "import pandas as pd\n",
    "\n",
    "\n",
    "inventory=pd.read_csv(\"inventory.csv\")"
   ]
  },
  {
   "cell_type": "markdown",
   "id": "e14b6c21",
   "metadata": {},
   "source": [
    "Inspect the first 10 rows of inventory"
   ]
  },
  {
   "cell_type": "code",
   "execution_count": 2,
   "id": "d61e4ae1",
   "metadata": {},
   "outputs": [
    {
     "data": {
      "text/html": [
       "<div>\n",
       "<style scoped>\n",
       "    .dataframe tbody tr th:only-of-type {\n",
       "        vertical-align: middle;\n",
       "    }\n",
       "\n",
       "    .dataframe tbody tr th {\n",
       "        vertical-align: top;\n",
       "    }\n",
       "\n",
       "    .dataframe thead th {\n",
       "        text-align: right;\n",
       "    }\n",
       "</style>\n",
       "<table border=\"1\" class=\"dataframe\">\n",
       "  <thead>\n",
       "    <tr style=\"text-align: right;\">\n",
       "      <th></th>\n",
       "      <th>location</th>\n",
       "      <th>product_type</th>\n",
       "      <th>product_description</th>\n",
       "      <th>quantity</th>\n",
       "      <th>price</th>\n",
       "    </tr>\n",
       "  </thead>\n",
       "  <tbody>\n",
       "    <tr>\n",
       "      <th>0</th>\n",
       "      <td>Staten Island</td>\n",
       "      <td>seeds</td>\n",
       "      <td>daisy</td>\n",
       "      <td>4</td>\n",
       "      <td>6.99</td>\n",
       "    </tr>\n",
       "    <tr>\n",
       "      <th>1</th>\n",
       "      <td>Staten Island</td>\n",
       "      <td>seeds</td>\n",
       "      <td>calla lily</td>\n",
       "      <td>46</td>\n",
       "      <td>19.99</td>\n",
       "    </tr>\n",
       "    <tr>\n",
       "      <th>2</th>\n",
       "      <td>Staten Island</td>\n",
       "      <td>seeds</td>\n",
       "      <td>tomato</td>\n",
       "      <td>85</td>\n",
       "      <td>13.99</td>\n",
       "    </tr>\n",
       "    <tr>\n",
       "      <th>3</th>\n",
       "      <td>Staten Island</td>\n",
       "      <td>garden tools</td>\n",
       "      <td>rake</td>\n",
       "      <td>4</td>\n",
       "      <td>13.99</td>\n",
       "    </tr>\n",
       "    <tr>\n",
       "      <th>4</th>\n",
       "      <td>Staten Island</td>\n",
       "      <td>garden tools</td>\n",
       "      <td>wheelbarrow</td>\n",
       "      <td>0</td>\n",
       "      <td>89.99</td>\n",
       "    </tr>\n",
       "    <tr>\n",
       "      <th>5</th>\n",
       "      <td>Staten Island</td>\n",
       "      <td>garden tools</td>\n",
       "      <td>spade</td>\n",
       "      <td>93</td>\n",
       "      <td>19.99</td>\n",
       "    </tr>\n",
       "    <tr>\n",
       "      <th>6</th>\n",
       "      <td>Staten Island</td>\n",
       "      <td>pest_control</td>\n",
       "      <td>insect killer</td>\n",
       "      <td>74</td>\n",
       "      <td>12.99</td>\n",
       "    </tr>\n",
       "    <tr>\n",
       "      <th>7</th>\n",
       "      <td>Staten Island</td>\n",
       "      <td>pest_control</td>\n",
       "      <td>weed killer</td>\n",
       "      <td>8</td>\n",
       "      <td>23.99</td>\n",
       "    </tr>\n",
       "    <tr>\n",
       "      <th>8</th>\n",
       "      <td>Staten Island</td>\n",
       "      <td>planter</td>\n",
       "      <td>20 inch terracotta planter</td>\n",
       "      <td>0</td>\n",
       "      <td>17.99</td>\n",
       "    </tr>\n",
       "    <tr>\n",
       "      <th>9</th>\n",
       "      <td>Staten Island</td>\n",
       "      <td>planter</td>\n",
       "      <td>8 inch plastic planter</td>\n",
       "      <td>53</td>\n",
       "      <td>3.99</td>\n",
       "    </tr>\n",
       "  </tbody>\n",
       "</table>\n",
       "</div>"
      ],
      "text/plain": [
       "        location  product_type         product_description  quantity  price\n",
       "0  Staten Island         seeds                       daisy         4   6.99\n",
       "1  Staten Island         seeds                  calla lily        46  19.99\n",
       "2  Staten Island         seeds                      tomato        85  13.99\n",
       "3  Staten Island  garden tools                        rake         4  13.99\n",
       "4  Staten Island  garden tools                 wheelbarrow         0  89.99\n",
       "5  Staten Island  garden tools                       spade        93  19.99\n",
       "6  Staten Island  pest_control               insect killer        74  12.99\n",
       "7  Staten Island  pest_control                 weed killer         8  23.99\n",
       "8  Staten Island       planter  20 inch terracotta planter         0  17.99\n",
       "9  Staten Island       planter      8 inch plastic planter        53   3.99"
      ]
     },
     "execution_count": 2,
     "metadata": {},
     "output_type": "execute_result"
    }
   ],
   "source": [
    "inventory.head(10)"
   ]
  },
  {
   "cell_type": "markdown",
   "id": "a21ce60b",
   "metadata": {},
   "source": [
    "The first 10 rows represent data from your Staten Island location. Select these rows and save them to staten_island."
   ]
  },
  {
   "cell_type": "code",
   "execution_count": 3,
   "id": "3a3e8aee",
   "metadata": {},
   "outputs": [],
   "source": [
    "staten_island=inventory.head(10)"
   ]
  },
  {
   "cell_type": "markdown",
   "id": "de171c51",
   "metadata": {},
   "source": [
    "A customer just emailed you asking what products are sold at your Staten Island location. Select the column product_description from staten_island and save it to the variable product_request."
   ]
  },
  {
   "cell_type": "code",
   "execution_count": 4,
   "id": "3121c497",
   "metadata": {},
   "outputs": [
    {
     "name": "stdout",
     "output_type": "stream",
     "text": [
      "0                         daisy\n",
      "1                    calla lily\n",
      "2                        tomato\n",
      "3                          rake\n",
      "4                   wheelbarrow\n",
      "5                         spade\n",
      "6                 insect killer\n",
      "7                   weed killer\n",
      "8    20 inch terracotta planter\n",
      "9        8 inch plastic planter\n",
      "Name: product_description, dtype: object\n"
     ]
    }
   ],
   "source": [
    "product_request=staten_island.product_description\n",
    "\n",
    "print(product_request)"
   ]
  },
  {
   "cell_type": "markdown",
   "id": "f240e53f",
   "metadata": {},
   "source": [
    "Another customer emails to ask what types of seeds are sold at the Brooklyn location. Select all rows where location is equal to Brooklyn and product_type is equal to seeds and save them to the variable seed_request"
   ]
  },
  {
   "cell_type": "code",
   "execution_count": 5,
   "id": "81efc4df",
   "metadata": {},
   "outputs": [
    {
     "name": "stdout",
     "output_type": "stream",
     "text": [
      "    location product_type product_description  quantity  price\n",
      "10  Brooklyn        seeds               daisy        50   6.99\n",
      "11  Brooklyn        seeds          calla lily         0  19.99\n",
      "12  Brooklyn        seeds              tomato         0  13.99\n"
     ]
    }
   ],
   "source": [
    "seed_request=inventory[(inventory.location=='Brooklyn') & (inventory.product_type=='seeds')]\n",
    "print(seed_request)"
   ]
  },
  {
   "cell_type": "markdown",
   "id": "96139909",
   "metadata": {},
   "source": [
    "Add a column to inventory called in_stock which is True if quantity is greater than 0 and False if quantity equals 0"
   ]
  },
  {
   "cell_type": "code",
   "execution_count": 6,
   "id": "cd74ca6c",
   "metadata": {},
   "outputs": [
    {
     "name": "stdout",
     "output_type": "stream",
     "text": [
      "         location  product_type         product_description  quantity  price  \\\n",
      "0   Staten Island         seeds                       daisy         4   6.99   \n",
      "1   Staten Island         seeds                  calla lily        46  19.99   \n",
      "2   Staten Island         seeds                      tomato        85  13.99   \n",
      "3   Staten Island  garden tools                        rake         4  13.99   \n",
      "4   Staten Island  garden tools                 wheelbarrow         0  89.99   \n",
      "5   Staten Island  garden tools                       spade        93  19.99   \n",
      "6   Staten Island  pest_control               insect killer        74  12.99   \n",
      "7   Staten Island  pest_control                 weed killer         8  23.99   \n",
      "8   Staten Island       planter  20 inch terracotta planter         0  17.99   \n",
      "9   Staten Island       planter      8 inch plastic planter        53   3.99   \n",
      "10       Brooklyn         seeds                       daisy        50   6.99   \n",
      "11       Brooklyn         seeds                  calla lily         0  19.99   \n",
      "12       Brooklyn         seeds                      tomato         0  13.99   \n",
      "13       Brooklyn  garden tools                        rake        15  13.99   \n",
      "14       Brooklyn  garden tools                 wheelbarrow        82  89.99   \n",
      "15       Brooklyn  garden tools                       spade        36  19.99   \n",
      "16       Brooklyn  pest_control               insect killer        80  12.99   \n",
      "17       Brooklyn  pest_control                 weed killer        76  23.99   \n",
      "18       Brooklyn       planter  20 inch terracotta planter         5  17.99   \n",
      "19       Brooklyn       planter      8 inch plastic planter        26   3.99   \n",
      "20         Queens         seeds                       daisy        57   6.99   \n",
      "21         Queens         seeds                  calla lily        95  19.99   \n",
      "22         Queens         seeds                      tomato        45  13.99   \n",
      "23         Queens  garden tools                        rake        21  13.99   \n",
      "24         Queens  garden tools                 wheelbarrow        98  89.99   \n",
      "25         Queens  garden tools                       spade        26  19.99   \n",
      "26         Queens  pest_control               insect killer         0  12.99   \n",
      "27         Queens  pest_control                 weed killer        16  23.99   \n",
      "28         Queens       planter  20 inch terracotta planter        87  17.99   \n",
      "\n",
      "    in_stock  \n",
      "0       True  \n",
      "1       True  \n",
      "2       True  \n",
      "3       True  \n",
      "4      False  \n",
      "5       True  \n",
      "6       True  \n",
      "7       True  \n",
      "8      False  \n",
      "9       True  \n",
      "10      True  \n",
      "11     False  \n",
      "12     False  \n",
      "13      True  \n",
      "14      True  \n",
      "15      True  \n",
      "16      True  \n",
      "17      True  \n",
      "18      True  \n",
      "19      True  \n",
      "20      True  \n",
      "21      True  \n",
      "22      True  \n",
      "23      True  \n",
      "24      True  \n",
      "25      True  \n",
      "26     False  \n",
      "27      True  \n",
      "28      True  \n"
     ]
    }
   ],
   "source": [
    "inventory['in_stock']=inventory.quantity.apply(lambda x:True if x>0 else False)\n",
    "print(inventory)"
   ]
  },
  {
   "cell_type": "markdown",
   "id": "733367dd",
   "metadata": {},
   "source": [
    "Petal Power wants to know how valuable their current inventory is. Create a column called total_value that is equal to price multiplied by quantity"
   ]
  },
  {
   "cell_type": "code",
   "execution_count": 7,
   "id": "da7e880f",
   "metadata": {},
   "outputs": [
    {
     "name": "stdout",
     "output_type": "stream",
     "text": [
      "         location  product_type         product_description  quantity  price  \\\n",
      "0   Staten Island         seeds                       daisy         4   6.99   \n",
      "1   Staten Island         seeds                  calla lily        46  19.99   \n",
      "2   Staten Island         seeds                      tomato        85  13.99   \n",
      "3   Staten Island  garden tools                        rake         4  13.99   \n",
      "4   Staten Island  garden tools                 wheelbarrow         0  89.99   \n",
      "5   Staten Island  garden tools                       spade        93  19.99   \n",
      "6   Staten Island  pest_control               insect killer        74  12.99   \n",
      "7   Staten Island  pest_control                 weed killer         8  23.99   \n",
      "8   Staten Island       planter  20 inch terracotta planter         0  17.99   \n",
      "9   Staten Island       planter      8 inch plastic planter        53   3.99   \n",
      "10       Brooklyn         seeds                       daisy        50   6.99   \n",
      "11       Brooklyn         seeds                  calla lily         0  19.99   \n",
      "12       Brooklyn         seeds                      tomato         0  13.99   \n",
      "13       Brooklyn  garden tools                        rake        15  13.99   \n",
      "14       Brooklyn  garden tools                 wheelbarrow        82  89.99   \n",
      "15       Brooklyn  garden tools                       spade        36  19.99   \n",
      "16       Brooklyn  pest_control               insect killer        80  12.99   \n",
      "17       Brooklyn  pest_control                 weed killer        76  23.99   \n",
      "18       Brooklyn       planter  20 inch terracotta planter         5  17.99   \n",
      "19       Brooklyn       planter      8 inch plastic planter        26   3.99   \n",
      "20         Queens         seeds                       daisy        57   6.99   \n",
      "21         Queens         seeds                  calla lily        95  19.99   \n",
      "22         Queens         seeds                      tomato        45  13.99   \n",
      "23         Queens  garden tools                        rake        21  13.99   \n",
      "24         Queens  garden tools                 wheelbarrow        98  89.99   \n",
      "25         Queens  garden tools                       spade        26  19.99   \n",
      "26         Queens  pest_control               insect killer         0  12.99   \n",
      "27         Queens  pest_control                 weed killer        16  23.99   \n",
      "28         Queens       planter  20 inch terracotta planter        87  17.99   \n",
      "\n",
      "    in_stock  total_value  \n",
      "0       True        27.96  \n",
      "1       True       919.54  \n",
      "2       True      1189.15  \n",
      "3       True        55.96  \n",
      "4      False         0.00  \n",
      "5       True      1859.07  \n",
      "6       True       961.26  \n",
      "7       True       191.92  \n",
      "8      False         0.00  \n",
      "9       True       211.47  \n",
      "10      True       349.50  \n",
      "11     False         0.00  \n",
      "12     False         0.00  \n",
      "13      True       209.85  \n",
      "14      True      7379.18  \n",
      "15      True       719.64  \n",
      "16      True      1039.20  \n",
      "17      True      1823.24  \n",
      "18      True        89.95  \n",
      "19      True       103.74  \n",
      "20      True       398.43  \n",
      "21      True      1899.05  \n",
      "22      True       629.55  \n",
      "23      True       293.79  \n",
      "24      True      8819.02  \n",
      "25      True       519.74  \n",
      "26     False         0.00  \n",
      "27      True       383.84  \n",
      "28      True      1565.13  \n"
     ]
    }
   ],
   "source": [
    "inventory['total_value']=inventory.price * inventory.quantity\n",
    "print(inventory)"
   ]
  },
  {
   "cell_type": "markdown",
   "id": "fde5340c",
   "metadata": {},
   "source": [
    "The Marketing department wants a complete description of each product for their catalog. The following lambda function combines product_type and product_description into a single string:"
   ]
  },
  {
   "cell_type": "code",
   "execution_count": 8,
   "id": "83c02046",
   "metadata": {},
   "outputs": [
    {
     "name": "stdout",
     "output_type": "stream",
     "text": [
      "         location  product_type         product_description  quantity  price  \\\n",
      "0   Staten Island         seeds                       daisy         4   6.99   \n",
      "1   Staten Island         seeds                  calla lily        46  19.99   \n",
      "2   Staten Island         seeds                      tomato        85  13.99   \n",
      "3   Staten Island  garden tools                        rake         4  13.99   \n",
      "4   Staten Island  garden tools                 wheelbarrow         0  89.99   \n",
      "5   Staten Island  garden tools                       spade        93  19.99   \n",
      "6   Staten Island  pest_control               insect killer        74  12.99   \n",
      "7   Staten Island  pest_control                 weed killer         8  23.99   \n",
      "8   Staten Island       planter  20 inch terracotta planter         0  17.99   \n",
      "9   Staten Island       planter      8 inch plastic planter        53   3.99   \n",
      "10       Brooklyn         seeds                       daisy        50   6.99   \n",
      "11       Brooklyn         seeds                  calla lily         0  19.99   \n",
      "12       Brooklyn         seeds                      tomato         0  13.99   \n",
      "13       Brooklyn  garden tools                        rake        15  13.99   \n",
      "14       Brooklyn  garden tools                 wheelbarrow        82  89.99   \n",
      "15       Brooklyn  garden tools                       spade        36  19.99   \n",
      "16       Brooklyn  pest_control               insect killer        80  12.99   \n",
      "17       Brooklyn  pest_control                 weed killer        76  23.99   \n",
      "18       Brooklyn       planter  20 inch terracotta planter         5  17.99   \n",
      "19       Brooklyn       planter      8 inch plastic planter        26   3.99   \n",
      "20         Queens         seeds                       daisy        57   6.99   \n",
      "21         Queens         seeds                  calla lily        95  19.99   \n",
      "22         Queens         seeds                      tomato        45  13.99   \n",
      "23         Queens  garden tools                        rake        21  13.99   \n",
      "24         Queens  garden tools                 wheelbarrow        98  89.99   \n",
      "25         Queens  garden tools                       spade        26  19.99   \n",
      "26         Queens  pest_control               insect killer         0  12.99   \n",
      "27         Queens  pest_control                 weed killer        16  23.99   \n",
      "28         Queens       planter  20 inch terracotta planter        87  17.99   \n",
      "\n",
      "    in_stock  total_value                      full_description  \n",
      "0       True        27.96                         seeds - daisy  \n",
      "1       True       919.54                    seeds - calla lily  \n",
      "2       True      1189.15                        seeds - tomato  \n",
      "3       True        55.96                   garden tools - rake  \n",
      "4      False         0.00            garden tools - wheelbarrow  \n",
      "5       True      1859.07                  garden tools - spade  \n",
      "6       True       961.26          pest_control - insect killer  \n",
      "7       True       191.92            pest_control - weed killer  \n",
      "8      False         0.00  planter - 20 inch terracotta planter  \n",
      "9       True       211.47      planter - 8 inch plastic planter  \n",
      "10      True       349.50                         seeds - daisy  \n",
      "11     False         0.00                    seeds - calla lily  \n",
      "12     False         0.00                        seeds - tomato  \n",
      "13      True       209.85                   garden tools - rake  \n",
      "14      True      7379.18            garden tools - wheelbarrow  \n",
      "15      True       719.64                  garden tools - spade  \n",
      "16      True      1039.20          pest_control - insect killer  \n",
      "17      True      1823.24            pest_control - weed killer  \n",
      "18      True        89.95  planter - 20 inch terracotta planter  \n",
      "19      True       103.74      planter - 8 inch plastic planter  \n",
      "20      True       398.43                         seeds - daisy  \n",
      "21      True      1899.05                    seeds - calla lily  \n",
      "22      True       629.55                        seeds - tomato  \n",
      "23      True       293.79                   garden tools - rake  \n",
      "24      True      8819.02            garden tools - wheelbarrow  \n",
      "25      True       519.74                  garden tools - spade  \n",
      "26     False         0.00          pest_control - insect killer  \n",
      "27      True       383.84            pest_control - weed killer  \n",
      "28      True      1565.13  planter - 20 inch terracotta planter  \n"
     ]
    }
   ],
   "source": [
    "combine_lambda = lambda row: \\\n",
    "    '{} - {}'.format(row.product_type,\n",
    "                     row.product_description)\n",
    "\n",
    "inventory['full_description']=inventory.apply(combine_lambda,axis=1) \n",
    "\n",
    "print(inventory)"
   ]
  },
  {
   "cell_type": "code",
   "execution_count": null,
   "id": "1e29be7e",
   "metadata": {},
   "outputs": [],
   "source": []
  }
 ],
 "metadata": {
  "kernelspec": {
   "display_name": "Python 3",
   "language": "python",
   "name": "python3"
  },
  "language_info": {
   "codemirror_mode": {
    "name": "ipython",
    "version": 3
   },
   "file_extension": ".py",
   "mimetype": "text/x-python",
   "name": "python",
   "nbconvert_exporter": "python",
   "pygments_lexer": "ipython3",
   "version": "3.9.4"
  }
 },
 "nbformat": 4,
 "nbformat_minor": 5
}
