{
 "cells": [
  {
   "cell_type": "code",
   "execution_count": 1,
   "id": "4deaf80e",
   "metadata": {},
   "outputs": [],
   "source": [
    "import numpy as np"
   ]
  },
  {
   "cell_type": "code",
   "execution_count": 2,
   "id": "e5e98621",
   "metadata": {},
   "outputs": [],
   "source": [
    "rainfall = np.array([5.21, 3.76, 3.27, 2.35, 1.89, 1.55, 0.65, 1.06, 1.72, 3.35, 4.82, 5.11])"
   ]
  },
  {
   "cell_type": "markdown",
   "id": "79f7b48a",
   "metadata": {},
   "source": [
    "calculate  mean and median of the above array"
   ]
  },
  {
   "cell_type": "code",
   "execution_count": 3,
   "id": "19d65dee",
   "metadata": {},
   "outputs": [],
   "source": [
    "rain_mean=np.mean(rainfall)\n",
    "rain_median=np.median(rainfall)"
   ]
  },
  {
   "cell_type": "markdown",
   "id": "29b527cd",
   "metadata": {},
   "source": [
    "Find the 25th and the 75th percentiles of the original rainfall array and save them to the arrays first_quarter and third_quarter, respectively."
   ]
  },
  {
   "cell_type": "code",
   "execution_count": 4,
   "id": "f33c4a52",
   "metadata": {},
   "outputs": [],
   "source": [
    "first_quarter =np.percentile(rainfall,25)\n",
    "third_quarter =np.percentile(rainfall,75)"
   ]
  },
  {
   "cell_type": "markdown",
   "id": "f088fed7",
   "metadata": {},
   "source": [
    "Calculate the interquartile range and save it to the variable, interquartile_range."
   ]
  },
  {
   "cell_type": "code",
   "execution_count": 5,
   "id": "49350357",
   "metadata": {},
   "outputs": [],
   "source": [
    "interquartile_range=third_quarter-first_quarter"
   ]
  },
  {
   "cell_type": "markdown",
   "id": "e521db98",
   "metadata": {},
   "source": [
    "Determine the standard deviation of the set and save it to the variable rain_std."
   ]
  },
  {
   "cell_type": "code",
   "execution_count": 6,
   "id": "2c45fe4c",
   "metadata": {},
   "outputs": [],
   "source": [
    "rain_std=np.std(rainfall)"
   ]
  },
  {
   "cell_type": "markdown",
   "id": "91453a43",
   "metadata": {},
   "source": [
    "Print the variables to the terminal to see your results."
   ]
  },
  {
   "cell_type": "code",
   "execution_count": 7,
   "id": "53b4aee7",
   "metadata": {},
   "outputs": [
    {
     "name": "stdout",
     "output_type": "stream",
     "text": [
      "2.895\n",
      "2.81\n",
      "1.6775\n",
      "4.025\n",
      "2.3475\n",
      "1.5267312577311483\n"
     ]
    }
   ],
   "source": [
    "print(rain_mean)\n",
    "print(rain_median)\n",
    "print(first_quarter)\n",
    "print(third_quarter)\n",
    "print(interquartile_range)\n",
    "print(rain_std)"
   ]
  },
  {
   "cell_type": "code",
   "execution_count": null,
   "id": "d8282bd7",
   "metadata": {},
   "outputs": [],
   "source": []
  }
 ],
 "metadata": {
  "kernelspec": {
   "display_name": "Python 3",
   "language": "python",
   "name": "python3"
  },
  "language_info": {
   "codemirror_mode": {
    "name": "ipython",
    "version": 3
   },
   "file_extension": ".py",
   "mimetype": "text/x-python",
   "name": "python",
   "nbconvert_exporter": "python",
   "pygments_lexer": "ipython3",
   "version": "3.9.4"
  }
 },
 "nbformat": 4,
 "nbformat_minor": 5
}
