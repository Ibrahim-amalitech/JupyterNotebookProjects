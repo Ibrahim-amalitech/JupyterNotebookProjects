{
 "cells": [
  {
   "cell_type": "markdown",
   "id": "b7ad81ec",
   "metadata": {},
   "source": [
    "                               ELECTION RESULTS\n",
    "                               \n",
    " You’re part of an impartial research group that conducts phone surveys prior to local elections. During this election season, the group conducted a survey to determine how many people would vote for Cynthia Ceballos vs. Justin Kerrigan in the mayoral election. Now that the election has occurred, your group wants to compare the survey responses to the actual results. Was your survey a good indicator? Let’s find out!"
   ]
  },
  {
   "cell_type": "markdown",
   "id": "b3f81fdf",
   "metadata": {},
   "source": [
    "Firts import numpy and matplotlib packages"
   ]
  },
  {
   "cell_type": "code",
   "execution_count": 1,
   "id": "f22af7a1",
   "metadata": {},
   "outputs": [],
   "source": [
    "import numpy as np\n",
    "from matplotlib import pyplot as plt"
   ]
  },
  {
   "cell_type": "code",
   "execution_count": 2,
   "id": "233ff010",
   "metadata": {},
   "outputs": [],
   "source": [
    "survey_responses = ['Ceballos', 'Kerrigan', 'Ceballos', 'Ceballos', 'Ceballos','Kerrigan', 'Kerrigan', 'Ceballos', 'Ceballos', 'Ceballos', \n",
    "'Kerrigan', 'Kerrigan', 'Ceballos', 'Ceballos', 'Kerrigan', 'Kerrigan', 'Ceballos', 'Ceballos', 'Kerrigan', 'Kerrigan', 'Kerrigan', 'Kerrigan', 'Kerrigan', 'Kerrigan', 'Ceballos', 'Ceballos', 'Ceballos', 'Ceballos', 'Ceballos', 'Ceballos',\n",
    "'Kerrigan', 'Kerrigan', 'Ceballos', 'Ceballos', 'Ceballos', 'Kerrigan', 'Kerrigan', 'Ceballos', 'Ceballos', 'Kerrigan', 'Kerrigan', 'Ceballos', 'Ceballos', 'Kerrigan', 'Kerrigan', 'Kerrigan', 'Kerrigan', 'Kerrigan', 'Kerrigan', 'Ceballos',\n",
    "'Kerrigan', 'Kerrigan', 'Ceballos', 'Ceballos', 'Ceballos', 'Kerrigan', 'Kerrigan', 'Ceballos', 'Ceballos', 'Kerrigan', 'Kerrigan', 'Ceballos', 'Ceballos', 'Kerrigan', 'Kerrigan', 'Kerrigan', 'Kerrigan', 'Kerrigan', 'Kerrigan', 'Ceballos']"
   ]
  },
  {
   "cell_type": "markdown",
   "id": "31c8438c",
   "metadata": {},
   "source": [
    "Calculate the number of people who answered ‘Ceballos’ and save the answer to the variable total_ceballos.\n",
    "Print the variable to the terminal to see its value."
   ]
  },
  {
   "cell_type": "code",
   "execution_count": 4,
   "id": "a6a84914",
   "metadata": {},
   "outputs": [
    {
     "name": "stdout",
     "output_type": "stream",
     "text": [
      "33\n",
      "47.14285714285714\n"
     ]
    }
   ],
   "source": [
    "total_ceballos=sum([1 for name in survey_responses if name==\"Ceballos\"])\n",
    "print(total_ceballos)\n",
    "percentage_ceballos=(100*(float(total_ceballos)/float(len(survey_responses))))\n",
    "print(percentage_ceballos)"
   ]
  },
  {
   "cell_type": "markdown",
   "id": "c6ed0c80",
   "metadata": {},
   "source": [
    "In the real election, 54% of the 10,000 town population voted for Cynthia Ceballos. Your supervisors are concerned because this is a very different outcome than what the poll predicted. They want you to determine if there is something wrong with the poll or if given the sample size, it was an entirely reasonable result."
   ]
  },
  {
   "cell_type": "code",
   "execution_count": 5,
   "id": "68174139",
   "metadata": {},
   "outputs": [],
   "source": [
    "survey_lenght=float(len(survey_responses))\n",
    "possible_surveys=np.random.binomial(survey_lenght,0.54,size=10000)/survey_lenght"
   ]
  },
  {
   "cell_type": "markdown",
   "id": "2ca8ed1e",
   "metadata": {},
   "source": [
    "Plot a histogram of possible_surveys with a range of 0-1 and 20 bins."
   ]
  },
  {
   "cell_type": "code",
   "execution_count": 6,
   "id": "93159f47",
   "metadata": {},
   "outputs": [
    {
     "data": {
      "image/png": "[encoded data removed]",
      "text/plain": [
       "<Figure size 432x288 with 1 Axes>"
      ]
     },
     "metadata": {
      "needs_background": "light"
     },
     "output_type": "display_data"
    }
   ],
   "source": [
    "plt.hist(possible_surveys ,range=(0,1),bins=20)\n",
    "plt.show()"
   ]
  },
  {
   "cell_type": "markdown",
   "id": "5f4a7b79",
   "metadata": {},
   "source": [
    "Calculate the percentage of surveys that could have an outcome of Ceballos receiving less than 50% of the vote and save it to the variable ceballos_loss_surveys. Print the variable to the terminal."
   ]
  },
  {
   "cell_type": "code",
   "execution_count": 7,
   "id": "0813bfe1",
   "metadata": {},
   "outputs": [
    {
     "name": "stdout",
     "output_type": "stream",
     "text": [
      "0.2168\n"
     ]
    }
   ],
   "source": [
    "ceballos_loss_surveys=np.mean(possible_surveys<0.5)\n",
    "print(ceballos_loss_surveys)"
   ]
  },
  {
   "cell_type": "markdown",
   "id": "66b2d708",
   "metadata": {},
   "source": [
    "With this current poll, about 20% of the time a survey output would predict Kerrigan winning, even if Ceballos won the actual election.\n",
    "Your co-worker points out that your poll would be more accurate if it had more responders.\n",
    "Generate another binomial distribution, but this time, see what would happen if you had instead surveyed 7,000 people. Divide the distribution by the size of the survey and save your findings to large_survey."
   ]
  },
  {
   "cell_type": "code",
   "execution_count": null,
   "id": "45c096a5",
   "metadata": {},
   "outputs": [],
   "source": [
    "newpoll_numbers=float(7000)\n",
    "large_survey=np.random.binomial(newpoll_numbers,0.54,size=10000)/newpoll_numbers"
   ]
  },
  {
   "cell_type": "code",
   "execution_count": 12,
   "id": "d0b9b612",
   "metadata": {},
   "outputs": [
    {
     "data": {
      "image/png": "[encoded data removed]",
      "text/plain": [
       "<Figure size 432x288 with 1 Axes>"
      ]
     },
     "metadata": {
      "needs_background": "light"
     },
     "output_type": "display_data"
    }
   ],
   "source": [
    "plt.hist(possible_surveys ,range=(0,1),bins=20)\n",
    "plt.show()"
   ]
  },
  {
   "cell_type": "markdown",
   "id": "4f326b4e",
   "metadata": {},
   "source": [
    "Now, recalculate the percentage of surveys that would have an outcome of Ceballos losing and save it to the variable ceballos_loss_new, and print the value to the terminal. What do we notice about this new value?"
   ]
  },
  {
   "cell_type": "code",
   "execution_count": 13,
   "id": "52b64a46",
   "metadata": {},
   "outputs": [
    {
     "name": "stdout",
     "output_type": "stream",
     "text": [
      "0.0\n"
     ]
    }
   ],
   "source": [
    "ceballos_loss_new=np.mean(large_survey<0.5)\n",
    "print(ceballos_loss_new)"
   ]
  },
  {
   "cell_type": "markdown",
   "id": "9fb4f3c0",
   "metadata": {},
   "source": [
    "The greater the sample size, the more accurate the prediction."
   ]
  },
  {
   "cell_type": "code",
   "execution_count": null,
   "id": "2ba315b1",
   "metadata": {},
   "outputs": [],
   "source": []
  }
 ],
 "metadata": {
  "kernelspec": {
   "display_name": "Python 3",
   "language": "python",
   "name": "python3"
  },
  "language_info": {
   "codemirror_mode": {
    "name": "ipython",
    "version": 3
   },
   "file_extension": ".py",
   "mimetype": "text/x-python",
   "name": "python",
   "nbconvert_exporter": "python",
   "pygments_lexer": "ipython3",
   "version": "3.9.4"
  }
 },
 "nbformat": 4,
 "nbformat_minor": 5
}
