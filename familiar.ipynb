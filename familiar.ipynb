{
 "cells": [
  {
   "cell_type": "markdown",
   "id": "10e6c093",
   "metadata": {},
   "source": [
    "# Familiar: A Study In Data Analysis"
   ]
  },
  {
   "cell_type": "markdown",
   "id": "72bd89b5",
   "metadata": {},
   "source": [
    "We’re going to start by including a data interface that a previous software engineer wrote for you, it’s aptly titled familiar, so just import that"
   ]
  },
  {
   "cell_type": "code",
   "execution_count": null,
   "id": "a1eb5e1c",
   "metadata": {},
   "outputs": [],
   "source": [
    "import familiar\n",
    "from scipy.stats import ttest_1samp\n",
    "from scipy.stats import ttest_ind\n",
    "from scipy.stats import chi2_contingency\n",
    "vein_pack_lifespans=familiar.lifespans(package='vein')\n",
    "# print(vein_pack_lifespans)\n",
    "vein_pack_test=ttest_1samp(vein_pack_lifespans,71)\n",
    "a,pvalue=vein_pack_test\n",
    "print(pvalue)\n",
    "if pvalue <0.05:\n",
    "  print('The Vein Pack Is Proven To Make You Live Longer!')\n",
    "else:\n",
    "  print('The Vein Pack Is Probably Good For You Somehow!')\n",
    "\n",
    "\n",
    "artery_pack_lifespans=familiar.lifespans(package='artery')\n",
    "# print(artery_pack_lifespans)\n",
    "package_comparison_results=ttest_ind(vein_pack_lifespans, artery_pack_lifespans)\n",
    "c,two_sample_pval=package_comparison_results\n",
    "print(two_sample_pval)\n",
    "if two_sample_pval <0.05:\n",
    "  print('the Artery Package guarantees even stronger results!')\n",
    "else:\n",
    "  print('the Artery Package is also a great product!')\n",
    "iron_contingency_table=familiar.iron_counts_for_package()\n",
    "print(iron_contingency_table)\n",
    "d,iron_pvalue,e,f=chi2_contingency(iron_contingency_table)\n",
    "if iron_pvalue < 0.05:\n",
    "  print('The Artery Package Is Proven To Make You Healthier!')\n",
    "else:\n",
    "  print \"While We C'ant Say The Artery Package Will Help You, I Bet It's Nice'!\""
   ]
  }
 ],
 "metadata": {
  "kernelspec": {
   "display_name": "Python 3",
   "language": "python",
   "name": "python3"
  },
  "language_info": {
   "codemirror_mode": {
    "name": "ipython",
    "version": 3
   },
   "file_extension": ".py",
   "mimetype": "text/x-python",
   "name": "python",
   "nbconvert_exporter": "python",
   "pygments_lexer": "ipython3",
   "version": "3.9.4"
  }
 },
 "nbformat": 4,
 "nbformat_minor": 5
}
