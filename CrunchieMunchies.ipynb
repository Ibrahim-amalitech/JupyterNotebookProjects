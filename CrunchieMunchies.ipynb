{
 "cells": [
  {
   "cell_type": "markdown",
   "id": "4cb1c547",
   "metadata": {},
   "source": [
    "CRUNCHIEMUNCHIES\n",
    "\n",
    "First,numpy package is imported and data from cereals.csv file is loaded and saved into a variable as calorie_stats "
   ]
  },
  {
   "cell_type": "code",
   "execution_count": 21,
   "id": "d4e8ce7f",
   "metadata": {},
   "outputs": [],
   "source": [
    "import numpy as np"
   ]
  },
  {
   "cell_type": "code",
   "execution_count": 22,
   "id": "4f6ec0ff",
   "metadata": {},
   "outputs": [],
   "source": [
    "calorie_stats=np.genfromtxt('cereals.csv', delimiter=\",\")"
   ]
  },
  {
   "cell_type": "code",
   "execution_count": 24,
   "id": "2421623a",
   "metadata": {},
   "outputs": [
    {
     "name": "stdout",
     "output_type": "stream",
     "text": [
      "[ 70. 120.  70.  50. 110. 110. 110. 130.  90.  90. 120. 110. 120. 110.\n",
      " 110. 110. 100. 110. 110. 110. 100. 110. 100. 100. 110. 110. 100. 120.\n",
      " 120. 110. 100. 110. 100. 110. 120. 120. 110. 110. 110. 140. 110. 100.\n",
      " 110. 100. 150. 150. 160. 100. 120. 140.  90. 130. 120. 100.  50.  50.\n",
      " 100. 100. 120. 100.  90. 110. 110.  80.  90.  90. 110. 110.  90. 110.\n",
      " 140. 100. 110. 110. 100. 100. 110.]\n"
     ]
    }
   ],
   "source": [
    "print(calorie_stats)"
   ]
  },
  {
   "cell_type": "markdown",
   "id": "8b64cef8",
   "metadata": {},
   "source": [
    " Calculate mean and save it in a variable named average_calories "
   ]
  },
  {
   "cell_type": "code",
   "execution_count": 25,
   "id": "e08ad4a4",
   "metadata": {},
   "outputs": [],
   "source": [
    "average_calories=np.mean(calorie_stats)"
   ]
  },
  {
   "cell_type": "code",
   "execution_count": 26,
   "id": "1144368f",
   "metadata": {},
   "outputs": [
    {
     "name": "stdout",
     "output_type": "stream",
     "text": [
      "106.88311688311688\n"
     ]
    }
   ],
   "source": [
    "print(average_calories)"
   ]
  },
  {
   "cell_type": "markdown",
   "id": "87f64ee5",
   "metadata": {},
   "source": [
    "Sort the data to see if average calorie count reflect the distribution of the data"
   ]
  },
  {
   "cell_type": "code",
   "execution_count": 27,
   "id": "a13c8619",
   "metadata": {},
   "outputs": [],
   "source": [
    "calorie_stats_sorted=np.sort(calorie_stats)"
   ]
  },
  {
   "cell_type": "code",
   "execution_count": 28,
   "id": "a8a38228",
   "metadata": {},
   "outputs": [
    {
     "name": "stdout",
     "output_type": "stream",
     "text": [
      "[ 50.  50.  50.  70.  70.  80.  90.  90.  90.  90.  90.  90.  90. 100.\n",
      " 100. 100. 100. 100. 100. 100. 100. 100. 100. 100. 100. 100. 100. 100.\n",
      " 100. 100. 110. 110. 110. 110. 110. 110. 110. 110. 110. 110. 110. 110.\n",
      " 110. 110. 110. 110. 110. 110. 110. 110. 110. 110. 110. 110. 110. 110.\n",
      " 110. 110. 110. 120. 120. 120. 120. 120. 120. 120. 120. 120. 120. 130.\n",
      " 130. 140. 140. 140. 150. 150. 160.]\n"
     ]
    }
   ],
   "source": [
    "print(calorie_stats_sorted)"
   ]
  },
  {
   "cell_type": "markdown",
   "id": "41199de5",
   "metadata": {},
   "source": [
    "Since majority of the values above are higher than the mean, lets calculate the median to check"
   ]
  },
  {
   "cell_type": "code",
   "execution_count": 29,
   "id": "69b807f8",
   "metadata": {},
   "outputs": [
    {
     "name": "stdout",
     "output_type": "stream",
     "text": [
      "110.0\n"
     ]
    }
   ],
   "source": [
    "median_calories=np.median(calorie_stats)\n",
    "print(median_calories)"
   ]
  },
  {
   "cell_type": "markdown",
   "id": "277d9c4b",
   "metadata": {},
   "source": [
    "The mean value above indicates that atleast half of our values are over 100 calories. Lets prove that a significant portion of the calories count from competitors has a higher calorie count than CrunchieMunchies. Therefore let's calculate percentiles"
   ]
  },
  {
   "cell_type": "code",
   "execution_count": 30,
   "id": "9f53d70e",
   "metadata": {},
   "outputs": [
    {
     "name": "stdout",
     "output_type": "stream",
     "text": [
      "70.0\n"
     ]
    }
   ],
   "source": [
    "nth_percentile=np.percentile(calorie_stats,4)\n",
    "print(nth_percentile)"
   ]
  },
  {
   "cell_type": "markdown",
   "id": "6d09c760",
   "metadata": {},
   "source": [
    "The above value is the lowest percentile that is greater than the 60 value of CrunchieMunchies showing majority of the competitors have a much higher values.\n",
    "Let us make it easier for the layman to understand by calculating percentage of cereals from competitors greater than 60 calories"
   ]
  },
  {
   "cell_type": "code",
   "execution_count": 31,
   "id": "f69828a8",
   "metadata": {},
   "outputs": [
    {
     "name": "stdout",
     "output_type": "stream",
     "text": [
      "0.961038961038961\n"
     ]
    }
   ],
   "source": [
    "more_calories=np.mean(calorie_stats > 60)\n",
    "print(more_calories)"
   ]
  },
  {
   "cell_type": "markdown",
   "id": "69911e2d",
   "metadata": {},
   "source": [
    "Wow! Over 95 percent have higher calories than CrunchieMunchies.  But one question is, how much variation exists in the dataset? Can we make the generalization that most cereals have around 100 calories or is the spread even greater?Lets calculate the amount of variation by using standard deviation."
   ]
  },
  {
   "cell_type": "code",
   "execution_count": 32,
   "id": "079aa6cf",
   "metadata": {},
   "outputs": [
    {
     "name": "stdout",
     "output_type": "stream",
     "text": [
      "19.35718533390827\n"
     ]
    }
   ],
   "source": [
    "calorie_std =np.std(calorie_stats)\n",
    "print(calorie_std)"
   ]
  },
  {
   "cell_type": "markdown",
   "id": "a8bfc394",
   "metadata": {},
   "source": [
    "Lets write print a short paragraph that sums up our findings"
   ]
  },
  {
   "cell_type": "code",
   "execution_count": 33,
   "id": "2957f2d5",
   "metadata": {
    "scrolled": true
   },
   "outputs": [
    {
     "name": "stdout",
     "output_type": "stream",
     "text": [
      "The data from competitors, shows an average calorie count of 106.88311688311688 which is significantly higher than CrunchieMunchies's. However a median of 110.0 revealed that the mean was not adequately representative. Majority of the competitors 70.0 have a higher calorie count and this makes CrunchieMunchies one of the best . Majority of the calories of competitors are arround 100 calories and this is corroborated by a standard deviation value of 19.35718533390827\n"
     ]
    }
   ],
   "source": [
    "print(\"The data from competitors, shows an average calorie count of \"+ str(average_calories) +\" which is significantly higher than CrunchieMunchies's. \"+ \"However a median of \"+ str(median_calories) +\" revealed that the mean was not adequately representative. Majority of the competitors \"+ str(nth_percentile)+ \" have a higher calorie count and this makes CrunchieMunchies one of the best . Majority of the calories of competitors are arround 100 calories and this is corroborated by a standard deviation value of \"+ str(calorie_std))"
   ]
  },
  {
   "cell_type": "code",
   "execution_count": null,
   "id": "08ad91ca",
   "metadata": {},
   "outputs": [],
   "source": []
  }
 ],
 "metadata": {
  "kernelspec": {
   "display_name": "Python 3",
   "language": "python",
   "name": "python3"
  },
  "language_info": {
   "codemirror_mode": {
    "name": "ipython",
    "version": 3
   },
   "file_extension": ".py",
   "mimetype": "text/x-python",
   "name": "python",
   "nbconvert_exporter": "python",
   "pygments_lexer": "ipython3",
   "version": "3.9.4"
  }
 },
 "nbformat": 4,
 "nbformat_minor": 5
}
