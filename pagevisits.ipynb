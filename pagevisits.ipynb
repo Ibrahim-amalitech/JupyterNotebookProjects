{
 "cells": [
  {
   "cell_type": "markdown",
   "id": "0186a95b",
   "metadata": {},
   "source": [
    "# Page Visits Funnel"
   ]
  },
  {
   "cell_type": "markdown",
   "id": "59961fb2",
   "metadata": {},
   "source": [
    "Cool T-Shirts Inc. has asked you to analyze data on visits to their website. Your job is to build a funnel, which is a description of how many people continue to the next step of a multi-step process.\n",
    "\n",
    "In this case, our funnel is going to describe the following process:\n",
    "\n",
    "1. A user visits CoolTShirts.com\n",
    "2. A user adds a t-shirt to their cart\n",
    "3. A user clicks “checkout”\n",
    "4. A user actually purchases a t-shirt"
   ]
  },
  {
   "cell_type": "markdown",
   "id": "69214a0c",
   "metadata": {},
   "source": [
    "Inspect the DataFrames using print and head"
   ]
  },
  {
   "cell_type": "code",
   "execution_count": 3,
   "id": "221d681b",
   "metadata": {},
   "outputs": [
    {
     "name": "stdout",
     "output_type": "stream",
     "text": [
      "                                user_id          visit_time\n",
      "0  943647ef-3682-4750-a2e1-918ba6f16188 2017-04-07 15:14:00\n",
      "1  0c3a3dd0-fb64-4eac-bf84-ba069ce409f2 2017-01-26 14:24:00\n",
      "2  6e0b2d60-4027-4d9a-babd-0e7d40859fb1 2017-08-20 08:23:00\n",
      "3  6879527e-c5a6-4d14-b2da-50b85212b0ab 2017-11-04 18:15:00\n",
      "4  a84327ff-5daa-4ba1-b789-d5b4caf81e96 2017-02-27 11:25:00\n",
      "                                user_id           cart_time\n",
      "0  2be90e7c-9cca-44e0-bcc5-124b945ff168 2017-11-07 20:45:00\n",
      "1  4397f73f-1da3-4ab3-91af-762792e25973 2017-05-27 01:35:00\n",
      "2  a9db3d4b-0a0a-4398-a55a-ebb2c7adf663 2017-03-04 10:38:00\n",
      "3  b594862a-36c5-47d5-b818-6e9512b939b3 2017-09-27 08:22:00\n",
      "4  a68a16e2-94f0-4ce8-8ce3-784af0bbb974 2017-07-26 15:48:00\n",
      "                                user_id       checkout_time\n",
      "0  d33bdc47-4afa-45bc-b4e4-dbe948e34c0d 2017-06-25 09:29:00\n",
      "1  4ac186f0-9954-4fea-8a27-c081e428e34e 2017-04-07 20:11:00\n",
      "2  3c9c78a7-124a-4b77-8d2e-e1926e011e7d 2017-07-13 11:38:00\n",
      "3  89fe330a-8966-4756-8f7c-3bdbcd47279a 2017-04-20 16:15:00\n",
      "4  3ccdaf69-2d30-40de-b083-51372881aedd 2017-01-08 20:52:00\n",
      "                                user_id       purchase_time\n",
      "0  4b44ace4-2721-47a0-b24b-15fbfa2abf85 2017-05-11 04:25:00\n",
      "1  02e684ae-a448-408f-a9ff-dcb4a5c99aac 2017-09-05 08:45:00\n",
      "2  4b4bc391-749e-4b90-ab8f-4f6e3c84d6dc 2017-11-20 20:49:00\n",
      "3  a5dbb25f-3c36-4103-9030-9f7c6241cd8d 2017-01-22 15:18:00\n",
      "4  46a3186d-7f5a-4ab9-87af-84d05bfd4867 2017-06-11 11:32:00\n"
     ]
    }
   ],
   "source": [
    "import pandas as pd\n",
    "\n",
    "\n",
    "visits = pd.read_csv('visits.csv',\n",
    "                       parse_dates=[1])\n",
    "cart = pd.read_csv('cart.csv',\n",
    "                       parse_dates=[1])\n",
    "checkout = pd.read_csv('checkout.csv',\n",
    "                       parse_dates=[1])\n",
    "purchase = pd.read_csv('purchase.csv',\n",
    "                       parse_dates=[1])\n",
    "\n",
    "print(visits.head())\n",
    "print(cart.head())\n",
    "print(checkout.head())\n",
    "print(purchase.head())\n"
   ]
  },
  {
   "cell_type": "markdown",
   "id": "917d0da8",
   "metadata": {},
   "source": [
    "Combine visits and cart using a left merge."
   ]
  },
  {
   "cell_type": "code",
   "execution_count": 4,
   "id": "8c8817d1",
   "metadata": {},
   "outputs": [
    {
     "name": "stdout",
     "output_type": "stream",
     "text": [
      "                                   user_id          visit_time  \\\n",
      "0     943647ef-3682-4750-a2e1-918ba6f16188 2017-04-07 15:14:00   \n",
      "1     0c3a3dd0-fb64-4eac-bf84-ba069ce409f2 2017-01-26 14:24:00   \n",
      "2     6e0b2d60-4027-4d9a-babd-0e7d40859fb1 2017-08-20 08:23:00   \n",
      "3     6879527e-c5a6-4d14-b2da-50b85212b0ab 2017-11-04 18:15:00   \n",
      "4     a84327ff-5daa-4ba1-b789-d5b4caf81e96 2017-02-27 11:25:00   \n",
      "...                                    ...                 ...   \n",
      "1995  33913ac2-03da-45ae-8fc3-fea39df827c6 2017-03-25 03:29:00   \n",
      "1996  4f850132-b99d-4623-80e6-6e61d003577e 2017-01-08 09:57:00   \n",
      "1997  f0830b9b-1f5c-4e74-b63d-3f847cc6ce70 2017-09-07 12:56:00   \n",
      "1998  b01bffa7-63ba-4cd3-9d93-eb1477c23831 2017-07-20 04:37:00   \n",
      "1999  0336ca81-8d68-443f-9248-ac0b8ad147d5 2017-11-15 10:11:00   \n",
      "\n",
      "               cart_time  \n",
      "0                    NaT  \n",
      "1    2017-01-26 14:44:00  \n",
      "2    2017-08-20 08:31:00  \n",
      "3                    NaT  \n",
      "4                    NaT  \n",
      "...                  ...  \n",
      "1995                 NaT  \n",
      "1996                 NaT  \n",
      "1997                 NaT  \n",
      "1998                 NaT  \n",
      "1999                 NaT  \n",
      "\n",
      "[2000 rows x 3 columns]\n"
     ]
    }
   ],
   "source": [
    "visits_cart=pd.merge(visits,cart,how='left')\n",
    "print(visits_cart)"
   ]
  },
  {
   "cell_type": "markdown",
   "id": "0f00cb98",
   "metadata": {},
   "source": [
    "How long is your merged DataFrame?"
   ]
  },
  {
   "cell_type": "code",
   "execution_count": 5,
   "id": "f01610a9",
   "metadata": {},
   "outputs": [
    {
     "name": "stdout",
     "output_type": "stream",
     "text": [
      "2000\n"
     ]
    }
   ],
   "source": [
    "print(len(visits_cart))"
   ]
  },
  {
   "cell_type": "markdown",
   "id": "df65201e",
   "metadata": {},
   "source": [
    "How many of the timestamps are null for the column cart_time? What do these null rows mean?"
   ]
  },
  {
   "cell_type": "code",
   "execution_count": 7,
   "id": "6b67c622",
   "metadata": {},
   "outputs": [
    {
     "name": "stdout",
     "output_type": "stream",
     "text": [
      "                                   user_id          visit_time cart_time\n",
      "0     943647ef-3682-4750-a2e1-918ba6f16188 2017-04-07 15:14:00       NaT\n",
      "3     6879527e-c5a6-4d14-b2da-50b85212b0ab 2017-11-04 18:15:00       NaT\n",
      "4     a84327ff-5daa-4ba1-b789-d5b4caf81e96 2017-02-27 11:25:00       NaT\n",
      "5     7bc62113-d51d-4e6b-85e0-1cf29e3de74a 2017-06-03 20:05:00       NaT\n",
      "6     6f22cd44-bc63-4449-a9af-2651859da2f9 2017-03-18 23:09:00       NaT\n",
      "...                                    ...                 ...       ...\n",
      "1995  33913ac2-03da-45ae-8fc3-fea39df827c6 2017-03-25 03:29:00       NaT\n",
      "1996  4f850132-b99d-4623-80e6-6e61d003577e 2017-01-08 09:57:00       NaT\n",
      "1997  f0830b9b-1f5c-4e74-b63d-3f847cc6ce70 2017-09-07 12:56:00       NaT\n",
      "1998  b01bffa7-63ba-4cd3-9d93-eb1477c23831 2017-07-20 04:37:00       NaT\n",
      "1999  0336ca81-8d68-443f-9248-ac0b8ad147d5 2017-11-15 10:11:00       NaT\n",
      "\n",
      "[1652 rows x 3 columns]\n"
     ]
    }
   ],
   "source": [
    "no_cart=visits_cart[visits_cart.cart_time.isnull()]\n",
    "print(no_cart)"
   ]
  },
  {
   "cell_type": "markdown",
   "id": "5391143e",
   "metadata": {},
   "source": [
    "What percent of users who visited Cool T-Shirts Inc. ended up not placing a t-shirt in their cart?"
   ]
  },
  {
   "cell_type": "code",
   "execution_count": 8,
   "id": "0c46464d",
   "metadata": {},
   "outputs": [
    {
     "name": "stdout",
     "output_type": "stream",
     "text": [
      "0.826\n"
     ]
    }
   ],
   "source": [
    "print(len(no_cart)/float(len(visits_cart)))"
   ]
  },
  {
   "cell_type": "markdown",
   "id": "a2b1828c",
   "metadata": {},
   "source": [
    "Repeat the left merge for cart and checkout and count null values. What percentage of users put items in their cart, but did not proceed to checkout"
   ]
  },
  {
   "cell_type": "code",
   "execution_count": 9,
   "id": "45d96708",
   "metadata": {},
   "outputs": [
    {
     "name": "stdout",
     "output_type": "stream",
     "text": [
      "                                  user_id           cart_time  \\\n",
      "0    2be90e7c-9cca-44e0-bcc5-124b945ff168 2017-11-07 20:45:00   \n",
      "1    2be90e7c-9cca-44e0-bcc5-124b945ff168 2017-11-07 20:45:00   \n",
      "2    2be90e7c-9cca-44e0-bcc5-124b945ff168 2017-11-07 20:45:00   \n",
      "3    4397f73f-1da3-4ab3-91af-762792e25973 2017-05-27 01:35:00   \n",
      "4    a9db3d4b-0a0a-4398-a55a-ebb2c7adf663 2017-03-04 10:38:00   \n",
      "..                                    ...                 ...   \n",
      "477  59d2b685-383a-4fce-a325-35d985713a8b 2017-01-20 03:58:00   \n",
      "478  a1203970-92ae-4fc7-843e-e1740c1be9d5 2017-11-12 23:07:00   \n",
      "479  55de53ae-89f6-43ff-a26d-df284678aca1 2017-03-17 19:56:00   \n",
      "480  0ea4cc68-dae4-4e35-b3e0-f0889932e1b5 2017-05-12 08:53:00   \n",
      "481  0ea4cc68-dae4-4e35-b3e0-f0889932e1b5 2017-05-12 08:53:00   \n",
      "\n",
      "          checkout_time  \n",
      "0   2017-11-07 21:14:00  \n",
      "1   2017-11-07 20:50:00  \n",
      "2   2017-11-07 21:11:00  \n",
      "3                   NaT  \n",
      "4   2017-03-04 11:04:00  \n",
      "..                  ...  \n",
      "477                 NaT  \n",
      "478                 NaT  \n",
      "479 2017-03-17 20:04:00  \n",
      "480 2017-05-12 08:57:00  \n",
      "481 2017-05-12 09:20:00  \n",
      "\n",
      "[482 rows x 3 columns]\n",
      "482\n",
      "                                  user_id           cart_time checkout_time\n",
      "3    4397f73f-1da3-4ab3-91af-762792e25973 2017-05-27 01:35:00           NaT\n",
      "6    a68a16e2-94f0-4ce8-8ce3-784af0bbb974 2017-07-26 15:48:00           NaT\n",
      "14   fd80ce93-ae6e-4c0b-9ea4-561f84152026 2017-06-07 01:18:00           NaT\n",
      "26   48a23075-694b-417d-8449-9df921ad95aa 2017-07-09 15:28:00           NaT\n",
      "29   5d7d121a-817c-4b84-b4d6-5388092b9aec 2017-06-10 14:54:00           NaT\n",
      "..                                    ...                 ...           ...\n",
      "469  e1a8574d-1975-4c6a-8020-b3469e4995a5 2017-10-01 20:43:00           NaT\n",
      "471  49d04162-a920-4823-a1f0-9764768c19d1 2017-10-10 10:55:00           NaT\n",
      "472  bf63c84b-53b7-45f6-9dc5-723087c31c1a 2017-04-12 01:34:00           NaT\n",
      "477  59d2b685-383a-4fce-a325-35d985713a8b 2017-01-20 03:58:00           NaT\n",
      "478  a1203970-92ae-4fc7-843e-e1740c1be9d5 2017-11-12 23:07:00           NaT\n",
      "\n",
      "[122 rows x 3 columns]\n",
      "0.25311203319502074\n"
     ]
    }
   ],
   "source": [
    "cart_checkout=pd.merge(cart,checkout,how='left')\n",
    "print(cart_checkout)\n",
    "print(len(cart_checkout))\n",
    "no_checkout=cart_checkout[cart_checkout.checkout_time.isnull()]\n",
    "print(no_checkout)\n",
    "print(len(no_checkout)/float(len(cart_checkout)))"
   ]
  },
  {
   "cell_type": "markdown",
   "id": "eca293ef",
   "metadata": {},
   "source": [
    "Merge all four steps of the funnel, in order, using a series of left merges. Save the results to the variable all_data.\n",
    "\n",
    "Examine the result using print and head"
   ]
  },
  {
   "cell_type": "code",
   "execution_count": 10,
   "id": "2bdde345",
   "metadata": {},
   "outputs": [
    {
     "name": "stdout",
     "output_type": "stream",
     "text": [
      "                                user_id          visit_time  \\\n",
      "0  943647ef-3682-4750-a2e1-918ba6f16188 2017-04-07 15:14:00   \n",
      "1  0c3a3dd0-fb64-4eac-bf84-ba069ce409f2 2017-01-26 14:24:00   \n",
      "2  6e0b2d60-4027-4d9a-babd-0e7d40859fb1 2017-08-20 08:23:00   \n",
      "3  6879527e-c5a6-4d14-b2da-50b85212b0ab 2017-11-04 18:15:00   \n",
      "4  a84327ff-5daa-4ba1-b789-d5b4caf81e96 2017-02-27 11:25:00   \n",
      "\n",
      "            cart_time       checkout_time       purchase_time  \n",
      "0                 NaT                 NaT                 NaT  \n",
      "1 2017-01-26 14:44:00 2017-01-26 14:54:00 2017-01-26 15:08:00  \n",
      "2 2017-08-20 08:31:00                 NaT                 NaT  \n",
      "3                 NaT                 NaT                 NaT  \n",
      "4                 NaT                 NaT                 NaT  \n"
     ]
    }
   ],
   "source": [
    "all_data=visits.merge(cart,how='left').merge(checkout,how='left').merge(purchase,how='left')\n",
    "print(all_data.head())"
   ]
  },
  {
   "cell_type": "markdown",
   "id": "7d918c9d",
   "metadata": {},
   "source": [
    "What percentage of users proceeded to checkout, but did not purchase a t-shirt?"
   ]
  },
  {
   "cell_type": "code",
   "execution_count": 11,
   "id": "7fc3333d",
   "metadata": {},
   "outputs": [
    {
     "name": "stdout",
     "output_type": "stream",
     "text": [
      "0.1688963210702341\n"
     ]
    }
   ],
   "source": [
    "checkout_purchase=checkout.merge(purchase,how='left')\n",
    "no_purchase_length=len(checkout_purchase[checkout_purchase.purchase_time.isnull()])\n",
    "percent_no_purchase=float(no_purchase_length)/float(len(checkout_purchase))\n",
    "print(percent_no_purchase)"
   ]
  },
  {
   "cell_type": "markdown",
   "id": "23d3882b",
   "metadata": {},
   "source": [
    "Which step of the funnel is weakest (i.e., has the highest percentage of users not completing it)? How might Cool T-Shirts Inc. change their website to fix this problem?"
   ]
  },
  {
   "cell_type": "markdown",
   "id": "1ad24505",
   "metadata": {},
   "source": [
    "Obviously the visits_cart funnel is the weakest with a over 80% users not making placements for T-shirts in their carts"
   ]
  },
  {
   "cell_type": "markdown",
   "id": "96b02896",
   "metadata": {},
   "source": [
    "Using the giant merged DataFrame all_data that you created, let’s calculate the average time from initial visit to final purchase. Start by adding the following column to your DataFrame:\n",
    "Examine the results"
   ]
  },
  {
   "cell_type": "code",
   "execution_count": 12,
   "id": "9433e1c0",
   "metadata": {},
   "outputs": [
    {
     "name": "stdout",
     "output_type": "stream",
     "text": [
      "0                  NaT\n",
      "1      0 days 00:44:00\n",
      "2                  NaT\n",
      "3                  NaT\n",
      "4                  NaT\n",
      "             ...      \n",
      "2367               NaT\n",
      "2368               NaT\n",
      "2369               NaT\n",
      "2370               NaT\n",
      "2371               NaT\n",
      "Name: time_to_purchase, Length: 2372, dtype: timedelta64[ns]\n"
     ]
    }
   ],
   "source": [
    "all_data['time_to_purchase'] = \\\n",
    "    all_data.purchase_time - \\\n",
    "    all_data.visit_time\n",
    "print(all_data.time_to_purchase)"
   ]
  },
  {
   "cell_type": "markdown",
   "id": "4e3d1bf1",
   "metadata": {},
   "source": [
    "Calculate the average time to purchase using the following code"
   ]
  },
  {
   "cell_type": "code",
   "execution_count": 13,
   "id": "378645ea",
   "metadata": {},
   "outputs": [
    {
     "name": "stdout",
     "output_type": "stream",
     "text": [
      "0 days 00:43:53.360160965\n"
     ]
    }
   ],
   "source": [
    "print(all_data.time_to_purchase.mean())"
   ]
  },
  {
   "cell_type": "code",
   "execution_count": null,
   "id": "43e4f7d0",
   "metadata": {},
   "outputs": [],
   "source": []
  }
 ],
 "metadata": {
  "kernelspec": {
   "display_name": "Python 3",
   "language": "python",
   "name": "python3"
  },
  "language_info": {
   "codemirror_mode": {
    "name": "ipython",
    "version": 3
   },
   "file_extension": ".py",
   "mimetype": "text/x-python",
   "name": "python",
   "nbconvert_exporter": "python",
   "pygments_lexer": "ipython3",
   "version": "3.9.4"
  }
 },
 "nbformat": 4,
 "nbformat_minor": 5
}
